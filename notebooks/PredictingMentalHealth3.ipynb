{
 "cells": [
  {
   "cell_type": "markdown",
   "id": "8756ad9a",
   "metadata": {},
   "source": [
    "# Predicting Mental Health Illness"
   ]
  },
  {
   "cell_type": "code",
   "execution_count": 233,
   "id": "3489da1f",
   "metadata": {},
   "outputs": [],
   "source": [
    "import numpy as np\n",
    "import pandas as pd\n",
    "import os\n",
    "import sys\n",
    "import seaborn as sns\n",
    "%matplotlib inline\n",
    "os.getcwd()\n",
    "from sklearn.model_selection import train_test_split\n",
    "from IPython.display import display \n",
    "from sklearn.metrics import mutual_info_score\n",
    "import matplotlib.pyplot as plt\n",
    "import statistics\n",
    "import copy\n",
    "from sklearn.model_selection import KFold \n",
    "from sklearn.preprocessing import LabelEncoder,MinMaxScaler\n",
    "from sklearn.linear_model import LogisticRegression\n",
    "from sklearn.neighbors import KNeighborsClassifier\n",
    "from sklearn import linear_model\n",
    "from sklearn.ensemble import RandomForestClassifier\n",
    "from sklearn.model_selection import cross_val_score\n",
    "from sklearn.feature_extraction import DictVectorizer\n",
    "from sklearn.svm import SVC\n",
    "from sklearn.neural_network import MLPClassifier\n",
    "from sklearn import svm\n",
    "from sklearn.svm import LinearSVC\n",
    "from sklearn.preprocessing import StandardScaler\n",
    "from sklearn import tree\n",
    "from sklearn.metrics import roc_auc_score\n",
    "from sklearn.model_selection import GridSearchCV\n",
    "from sklearn.linear_model import SGDClassifier\n",
    "from sklearn.linear_model import LogisticRegression\n",
    "from sklearn.metrics import accuracy_score\n",
    "from sklearn.tree import DecisionTreeClassifier\n",
    "from sklearn.metrics import accuracy_score\n",
    "from sklearn.metrics import roc_curve\n",
    "import pickle"
   ]
  },
  {
   "cell_type": "code",
   "execution_count": 234,
   "id": "25570651",
   "metadata": {},
   "outputs": [
    {
     "data": {
      "text/plain": [
       "'C:\\\\Users\\\\NanjHen.NHIS\\\\Documents\\\\Henry.Nanji1\\\\Portfolio\\\\PredictingDepression\\\\PREDICTINGMH\\\\notebooks'"
      ]
     },
     "execution_count": 234,
     "metadata": {},
     "output_type": "execute_result"
    }
   ],
   "source": [
    "os.getcwd()"
   ]
  },
  {
   "cell_type": "code",
   "execution_count": 235,
   "id": "f1d191e8",
   "metadata": {
    "scrolled": true
   },
   "outputs": [],
   "source": [
    "df = pd.read_csv('analysis_data_set.csv')\n",
    "df.head(5)\n",
    "\n",
    "data = copy.deepcopy(df)"
   ]
  },
  {
   "cell_type": "code",
   "execution_count": 236,
   "id": "7c1569a8",
   "metadata": {},
   "outputs": [
    {
     "data": {
      "text/plain": [
       "Index(['Unnamed: 0', 'age', 'marital_status', 'education_level',\n",
       "       'number_of_children', 'smoking_status', 'physical_activity_level',\n",
       "       'employment_status', 'income', 'alcohol_consumption', 'dietary_habits',\n",
       "       'sleep_patterns', 'history_of_mental_illness',\n",
       "       'history_of_substance_abuse', 'family_history_of_depression',\n",
       "       'chronic_medical_conditions', 'agecat', 'incomecat', 'smoking2cat',\n",
       "       'alcohol.cat'],\n",
       "      dtype='object')"
      ]
     },
     "execution_count": 236,
     "metadata": {},
     "output_type": "execute_result"
    }
   ],
   "source": [
    "# Get column names\n",
    "df.columns"
   ]
  },
  {
   "cell_type": "code",
   "execution_count": 237,
   "id": "7e447938",
   "metadata": {},
   "outputs": [],
   "source": [
    "#drop unnecessary columns\n",
    "df = df.drop(columns=['Unnamed: 0', 'agecat', 'incomecat','smoking2cat',\n",
    "       'alcohol.cat'])"
   ]
  },
  {
   "cell_type": "markdown",
   "id": "592869b8",
   "metadata": {},
   "source": [
    "# Data preparation"
   ]
  },
  {
   "cell_type": "code",
   "execution_count": 238,
   "id": "8b22f83f",
   "metadata": {},
   "outputs": [
    {
     "data": {
      "text/plain": [
       "194622"
      ]
     },
     "execution_count": 238,
     "metadata": {},
     "output_type": "execute_result"
    }
   ],
   "source": [
    "len(df)"
   ]
  },
  {
   "cell_type": "markdown",
   "id": "8bde8b8a",
   "metadata": {},
   "source": [
    "# Target variable\n",
    "\n",
    "history_of_mental_illnesss: Whether the individual had history or mental health or nots. 1/0"
   ]
  },
  {
   "cell_type": "code",
   "execution_count": 166,
   "id": "632d4de3",
   "metadata": {},
   "outputs": [
    {
     "data": {
      "text/plain": [
       "history_of_mental_illness\n",
       "0    0.69355\n",
       "1    0.30645\n",
       "Name: proportion, dtype: float64"
      ]
     },
     "execution_count": 166,
     "metadata": {},
     "output_type": "execute_result"
    }
   ],
   "source": [
    "#  check the distribution of values of history of mental health(check for imbalance data set.\n",
    "# data set is imbalanced, need to do upsampling or downsampling\n",
    "df['history_of_mental_illness'].value_counts(normalize = True)\n",
    "# we see, the patient dont have depression"
   ]
  },
  {
   "cell_type": "code",
   "execution_count": 167,
   "id": "cb2d40b8",
   "metadata": {},
   "outputs": [
    {
     "data": {
      "text/plain": [
       "history_of_mental_illness\n",
       "False    194622\n",
       "Name: count, dtype: int64"
      ]
     },
     "execution_count": 167,
     "metadata": {},
     "output_type": "execute_result"
    }
   ],
   "source": [
    "df['history_of_mental_illness'].isnull().value_counts()"
   ]
  },
  {
   "cell_type": "code",
   "execution_count": 168,
   "id": "3a23b580",
   "metadata": {},
   "outputs": [],
   "source": [
    "# identifying categorical and numerical columns"
   ]
  },
  {
   "cell_type": "code",
   "execution_count": 169,
   "id": "d97ccd9f",
   "metadata": {},
   "outputs": [],
   "source": [
    "categorical = ['marital_status', 'education_level', 'number_of_children',\n",
    "       'smoking_status', 'physical_activity_level', 'employment_status',\n",
    "        'alcohol_consumption', 'dietary_habits', 'sleep_patterns',\n",
    "        'history_of_substance_abuse',\n",
    "       'family_history_of_depression', 'chronic_medical_conditions']\n",
    "numerical = ['age', 'income']"
   ]
  },
  {
   "cell_type": "code",
   "execution_count": 170,
   "id": "868dc2eb",
   "metadata": {},
   "outputs": [
    {
     "data": {
      "text/plain": [
       "marital_status                  4\n",
       "education_level                 5\n",
       "number_of_children              5\n",
       "smoking_status                  3\n",
       "physical_activity_level         3\n",
       "employment_status               2\n",
       "alcohol_consumption             3\n",
       "dietary_habits                  3\n",
       "sleep_patterns                  3\n",
       "history_of_substance_abuse      2\n",
       "family_history_of_depression    2\n",
       "chronic_medical_conditions      2\n",
       "dtype: int64"
      ]
     },
     "execution_count": 170,
     "metadata": {},
     "output_type": "execute_result"
    }
   ],
   "source": [
    "# checking unique values for categorical coluns\n",
    "df[categorical].nunique()"
   ]
  },
  {
   "cell_type": "code",
   "execution_count": 171,
   "id": "4e7e0dcf",
   "metadata": {},
   "outputs": [],
   "source": [
    "# Feature importance"
   ]
  },
  {
   "cell_type": "code",
   "execution_count": 172,
   "id": "969b14a1",
   "metadata": {},
   "outputs": [
    {
     "data": {
      "text/html": [
       "<div>\n",
       "<style scoped>\n",
       "    .dataframe tbody tr th:only-of-type {\n",
       "        vertical-align: middle;\n",
       "    }\n",
       "\n",
       "    .dataframe tbody tr th {\n",
       "        vertical-align: top;\n",
       "    }\n",
       "\n",
       "    .dataframe thead th {\n",
       "        text-align: right;\n",
       "    }\n",
       "</style>\n",
       "<table border=\"1\" class=\"dataframe\">\n",
       "  <thead>\n",
       "    <tr style=\"text-align: right;\">\n",
       "      <th></th>\n",
       "      <th>mean</th>\n",
       "      <th>diff</th>\n",
       "      <th>risk</th>\n",
       "    </tr>\n",
       "    <tr>\n",
       "      <th>marital_status</th>\n",
       "      <th></th>\n",
       "      <th></th>\n",
       "      <th></th>\n",
       "    </tr>\n",
       "  </thead>\n",
       "  <tbody>\n",
       "    <tr>\n",
       "      <th>1</th>\n",
       "      <td>0.296875</td>\n",
       "      <td>-0.009575</td>\n",
       "      <td>0.968754</td>\n",
       "    </tr>\n",
       "    <tr>\n",
       "      <th>2</th>\n",
       "      <td>0.307479</td>\n",
       "      <td>0.001029</td>\n",
       "      <td>1.003358</td>\n",
       "    </tr>\n",
       "    <tr>\n",
       "      <th>3</th>\n",
       "      <td>0.313076</td>\n",
       "      <td>0.006625</td>\n",
       "      <td>1.021620</td>\n",
       "    </tr>\n",
       "    <tr>\n",
       "      <th>4</th>\n",
       "      <td>0.293769</td>\n",
       "      <td>-0.012681</td>\n",
       "      <td>0.958620</td>\n",
       "    </tr>\n",
       "  </tbody>\n",
       "</table>\n",
       "</div>"
      ],
      "text/plain": [
       "                    mean      diff      risk\n",
       "marital_status                              \n",
       "1               0.296875 -0.009575  0.968754\n",
       "2               0.307479  0.001029  1.003358\n",
       "3               0.313076  0.006625  1.021620\n",
       "4               0.293769 -0.012681  0.958620"
      ]
     },
     "metadata": {},
     "output_type": "display_data"
    },
    {
     "data": {
      "text/html": [
       "<div>\n",
       "<style scoped>\n",
       "    .dataframe tbody tr th:only-of-type {\n",
       "        vertical-align: middle;\n",
       "    }\n",
       "\n",
       "    .dataframe tbody tr th {\n",
       "        vertical-align: top;\n",
       "    }\n",
       "\n",
       "    .dataframe thead th {\n",
       "        text-align: right;\n",
       "    }\n",
       "</style>\n",
       "<table border=\"1\" class=\"dataframe\">\n",
       "  <thead>\n",
       "    <tr style=\"text-align: right;\">\n",
       "      <th></th>\n",
       "      <th>mean</th>\n",
       "      <th>diff</th>\n",
       "      <th>risk</th>\n",
       "    </tr>\n",
       "    <tr>\n",
       "      <th>education_level</th>\n",
       "      <th></th>\n",
       "      <th></th>\n",
       "      <th></th>\n",
       "    </tr>\n",
       "  </thead>\n",
       "  <tbody>\n",
       "    <tr>\n",
       "      <th>1</th>\n",
       "      <td>0.336842</td>\n",
       "      <td>0.030392</td>\n",
       "      <td>1.099173</td>\n",
       "    </tr>\n",
       "    <tr>\n",
       "      <th>2</th>\n",
       "      <td>0.333908</td>\n",
       "      <td>0.027457</td>\n",
       "      <td>1.089598</td>\n",
       "    </tr>\n",
       "    <tr>\n",
       "      <th>3</th>\n",
       "      <td>0.279857</td>\n",
       "      <td>-0.026593</td>\n",
       "      <td>0.913222</td>\n",
       "    </tr>\n",
       "    <tr>\n",
       "      <th>4</th>\n",
       "      <td>0.281227</td>\n",
       "      <td>-0.025224</td>\n",
       "      <td>0.917690</td>\n",
       "    </tr>\n",
       "    <tr>\n",
       "      <th>5</th>\n",
       "      <td>0.283331</td>\n",
       "      <td>-0.023119</td>\n",
       "      <td>0.924559</td>\n",
       "    </tr>\n",
       "  </tbody>\n",
       "</table>\n",
       "</div>"
      ],
      "text/plain": [
       "                     mean      diff      risk\n",
       "education_level                              \n",
       "1                0.336842  0.030392  1.099173\n",
       "2                0.333908  0.027457  1.089598\n",
       "3                0.279857 -0.026593  0.913222\n",
       "4                0.281227 -0.025224  0.917690\n",
       "5                0.283331 -0.023119  0.924559"
      ]
     },
     "metadata": {},
     "output_type": "display_data"
    },
    {
     "data": {
      "text/html": [
       "<div>\n",
       "<style scoped>\n",
       "    .dataframe tbody tr th:only-of-type {\n",
       "        vertical-align: middle;\n",
       "    }\n",
       "\n",
       "    .dataframe tbody tr th {\n",
       "        vertical-align: top;\n",
       "    }\n",
       "\n",
       "    .dataframe thead th {\n",
       "        text-align: right;\n",
       "    }\n",
       "</style>\n",
       "<table border=\"1\" class=\"dataframe\">\n",
       "  <thead>\n",
       "    <tr style=\"text-align: right;\">\n",
       "      <th></th>\n",
       "      <th>mean</th>\n",
       "      <th>diff</th>\n",
       "      <th>risk</th>\n",
       "    </tr>\n",
       "    <tr>\n",
       "      <th>number_of_children</th>\n",
       "      <th></th>\n",
       "      <th></th>\n",
       "      <th></th>\n",
       "    </tr>\n",
       "  </thead>\n",
       "  <tbody>\n",
       "    <tr>\n",
       "      <th>0</th>\n",
       "      <td>0.303470</td>\n",
       "      <td>-0.002980</td>\n",
       "      <td>0.990275</td>\n",
       "    </tr>\n",
       "    <tr>\n",
       "      <th>1</th>\n",
       "      <td>0.307776</td>\n",
       "      <td>0.001326</td>\n",
       "      <td>1.004326</td>\n",
       "    </tr>\n",
       "    <tr>\n",
       "      <th>2</th>\n",
       "      <td>0.308795</td>\n",
       "      <td>0.002345</td>\n",
       "      <td>1.007651</td>\n",
       "    </tr>\n",
       "    <tr>\n",
       "      <th>3</th>\n",
       "      <td>0.310667</td>\n",
       "      <td>0.004217</td>\n",
       "      <td>1.013760</td>\n",
       "    </tr>\n",
       "    <tr>\n",
       "      <th>4</th>\n",
       "      <td>0.280527</td>\n",
       "      <td>-0.025924</td>\n",
       "      <td>0.915406</td>\n",
       "    </tr>\n",
       "  </tbody>\n",
       "</table>\n",
       "</div>"
      ],
      "text/plain": [
       "                        mean      diff      risk\n",
       "number_of_children                              \n",
       "0                   0.303470 -0.002980  0.990275\n",
       "1                   0.307776  0.001326  1.004326\n",
       "2                   0.308795  0.002345  1.007651\n",
       "3                   0.310667  0.004217  1.013760\n",
       "4                   0.280527 -0.025924  0.915406"
      ]
     },
     "metadata": {},
     "output_type": "display_data"
    },
    {
     "data": {
      "text/html": [
       "<div>\n",
       "<style scoped>\n",
       "    .dataframe tbody tr th:only-of-type {\n",
       "        vertical-align: middle;\n",
       "    }\n",
       "\n",
       "    .dataframe tbody tr th {\n",
       "        vertical-align: top;\n",
       "    }\n",
       "\n",
       "    .dataframe thead th {\n",
       "        text-align: right;\n",
       "    }\n",
       "</style>\n",
       "<table border=\"1\" class=\"dataframe\">\n",
       "  <thead>\n",
       "    <tr style=\"text-align: right;\">\n",
       "      <th></th>\n",
       "      <th>mean</th>\n",
       "      <th>diff</th>\n",
       "      <th>risk</th>\n",
       "    </tr>\n",
       "    <tr>\n",
       "      <th>smoking_status</th>\n",
       "      <th></th>\n",
       "      <th></th>\n",
       "      <th></th>\n",
       "    </tr>\n",
       "  </thead>\n",
       "  <tbody>\n",
       "    <tr>\n",
       "      <th>1</th>\n",
       "      <td>0.294124</td>\n",
       "      <td>-0.012326</td>\n",
       "      <td>0.959778</td>\n",
       "    </tr>\n",
       "    <tr>\n",
       "      <th>2</th>\n",
       "      <td>0.305988</td>\n",
       "      <td>-0.000462</td>\n",
       "      <td>0.998493</td>\n",
       "    </tr>\n",
       "    <tr>\n",
       "      <th>3</th>\n",
       "      <td>0.308440</td>\n",
       "      <td>0.001989</td>\n",
       "      <td>1.006491</td>\n",
       "    </tr>\n",
       "  </tbody>\n",
       "</table>\n",
       "</div>"
      ],
      "text/plain": [
       "                    mean      diff      risk\n",
       "smoking_status                              \n",
       "1               0.294124 -0.012326  0.959778\n",
       "2               0.305988 -0.000462  0.998493\n",
       "3               0.308440  0.001989  1.006491"
      ]
     },
     "metadata": {},
     "output_type": "display_data"
    },
    {
     "data": {
      "text/html": [
       "<div>\n",
       "<style scoped>\n",
       "    .dataframe tbody tr th:only-of-type {\n",
       "        vertical-align: middle;\n",
       "    }\n",
       "\n",
       "    .dataframe tbody tr th {\n",
       "        vertical-align: top;\n",
       "    }\n",
       "\n",
       "    .dataframe thead th {\n",
       "        text-align: right;\n",
       "    }\n",
       "</style>\n",
       "<table border=\"1\" class=\"dataframe\">\n",
       "  <thead>\n",
       "    <tr style=\"text-align: right;\">\n",
       "      <th></th>\n",
       "      <th>mean</th>\n",
       "      <th>diff</th>\n",
       "      <th>risk</th>\n",
       "    </tr>\n",
       "    <tr>\n",
       "      <th>physical_activity_level</th>\n",
       "      <th></th>\n",
       "      <th></th>\n",
       "      <th></th>\n",
       "    </tr>\n",
       "  </thead>\n",
       "  <tbody>\n",
       "    <tr>\n",
       "      <th>1</th>\n",
       "      <td>0.297292</td>\n",
       "      <td>-0.009159</td>\n",
       "      <td>0.970113</td>\n",
       "    </tr>\n",
       "    <tr>\n",
       "      <th>2</th>\n",
       "      <td>0.305650</td>\n",
       "      <td>-0.000800</td>\n",
       "      <td>0.997388</td>\n",
       "    </tr>\n",
       "    <tr>\n",
       "      <th>3</th>\n",
       "      <td>0.309995</td>\n",
       "      <td>0.003545</td>\n",
       "      <td>1.011567</td>\n",
       "    </tr>\n",
       "  </tbody>\n",
       "</table>\n",
       "</div>"
      ],
      "text/plain": [
       "                             mean      diff      risk\n",
       "physical_activity_level                              \n",
       "1                        0.297292 -0.009159  0.970113\n",
       "2                        0.305650 -0.000800  0.997388\n",
       "3                        0.309995  0.003545  1.011567"
      ]
     },
     "metadata": {},
     "output_type": "display_data"
    },
    {
     "data": {
      "text/html": [
       "<div>\n",
       "<style scoped>\n",
       "    .dataframe tbody tr th:only-of-type {\n",
       "        vertical-align: middle;\n",
       "    }\n",
       "\n",
       "    .dataframe tbody tr th {\n",
       "        vertical-align: top;\n",
       "    }\n",
       "\n",
       "    .dataframe thead th {\n",
       "        text-align: right;\n",
       "    }\n",
       "</style>\n",
       "<table border=\"1\" class=\"dataframe\">\n",
       "  <thead>\n",
       "    <tr style=\"text-align: right;\">\n",
       "      <th></th>\n",
       "      <th>mean</th>\n",
       "      <th>diff</th>\n",
       "      <th>risk</th>\n",
       "    </tr>\n",
       "    <tr>\n",
       "      <th>employment_status</th>\n",
       "      <th></th>\n",
       "      <th></th>\n",
       "      <th></th>\n",
       "    </tr>\n",
       "  </thead>\n",
       "  <tbody>\n",
       "    <tr>\n",
       "      <th>0</th>\n",
       "      <td>0.393214</td>\n",
       "      <td>0.086764</td>\n",
       "      <td>1.283124</td>\n",
       "    </tr>\n",
       "    <tr>\n",
       "      <th>1</th>\n",
       "      <td>0.251027</td>\n",
       "      <td>-0.055423</td>\n",
       "      <td>0.819145</td>\n",
       "    </tr>\n",
       "  </tbody>\n",
       "</table>\n",
       "</div>"
      ],
      "text/plain": [
       "                       mean      diff      risk\n",
       "employment_status                              \n",
       "0                  0.393214  0.086764  1.283124\n",
       "1                  0.251027 -0.055423  0.819145"
      ]
     },
     "metadata": {},
     "output_type": "display_data"
    },
    {
     "data": {
      "text/html": [
       "<div>\n",
       "<style scoped>\n",
       "    .dataframe tbody tr th:only-of-type {\n",
       "        vertical-align: middle;\n",
       "    }\n",
       "\n",
       "    .dataframe tbody tr th {\n",
       "        vertical-align: top;\n",
       "    }\n",
       "\n",
       "    .dataframe thead th {\n",
       "        text-align: right;\n",
       "    }\n",
       "</style>\n",
       "<table border=\"1\" class=\"dataframe\">\n",
       "  <thead>\n",
       "    <tr style=\"text-align: right;\">\n",
       "      <th></th>\n",
       "      <th>mean</th>\n",
       "      <th>diff</th>\n",
       "      <th>risk</th>\n",
       "    </tr>\n",
       "    <tr>\n",
       "      <th>alcohol_consumption</th>\n",
       "      <th></th>\n",
       "      <th></th>\n",
       "      <th></th>\n",
       "    </tr>\n",
       "  </thead>\n",
       "  <tbody>\n",
       "    <tr>\n",
       "      <th>1</th>\n",
       "      <td>0.302806</td>\n",
       "      <td>-0.003644</td>\n",
       "      <td>0.988109</td>\n",
       "    </tr>\n",
       "    <tr>\n",
       "      <th>2</th>\n",
       "      <td>0.304912</td>\n",
       "      <td>-0.001539</td>\n",
       "      <td>0.994979</td>\n",
       "    </tr>\n",
       "    <tr>\n",
       "      <th>3</th>\n",
       "      <td>0.314721</td>\n",
       "      <td>0.008270</td>\n",
       "      <td>1.026988</td>\n",
       "    </tr>\n",
       "  </tbody>\n",
       "</table>\n",
       "</div>"
      ],
      "text/plain": [
       "                         mean      diff      risk\n",
       "alcohol_consumption                              \n",
       "1                    0.302806 -0.003644  0.988109\n",
       "2                    0.304912 -0.001539  0.994979\n",
       "3                    0.314721  0.008270  1.026988"
      ]
     },
     "metadata": {},
     "output_type": "display_data"
    },
    {
     "data": {
      "text/html": [
       "<div>\n",
       "<style scoped>\n",
       "    .dataframe tbody tr th:only-of-type {\n",
       "        vertical-align: middle;\n",
       "    }\n",
       "\n",
       "    .dataframe tbody tr th {\n",
       "        vertical-align: top;\n",
       "    }\n",
       "\n",
       "    .dataframe thead th {\n",
       "        text-align: right;\n",
       "    }\n",
       "</style>\n",
       "<table border=\"1\" class=\"dataframe\">\n",
       "  <thead>\n",
       "    <tr style=\"text-align: right;\">\n",
       "      <th></th>\n",
       "      <th>mean</th>\n",
       "      <th>diff</th>\n",
       "      <th>risk</th>\n",
       "    </tr>\n",
       "    <tr>\n",
       "      <th>dietary_habits</th>\n",
       "      <th></th>\n",
       "      <th></th>\n",
       "      <th></th>\n",
       "    </tr>\n",
       "  </thead>\n",
       "  <tbody>\n",
       "    <tr>\n",
       "      <th>0</th>\n",
       "      <td>0.317095</td>\n",
       "      <td>0.010645</td>\n",
       "      <td>1.034736</td>\n",
       "    </tr>\n",
       "    <tr>\n",
       "      <th>1</th>\n",
       "      <td>0.306789</td>\n",
       "      <td>0.000338</td>\n",
       "      <td>1.001104</td>\n",
       "    </tr>\n",
       "    <tr>\n",
       "      <th>2</th>\n",
       "      <td>0.278883</td>\n",
       "      <td>-0.027567</td>\n",
       "      <td>0.910043</td>\n",
       "    </tr>\n",
       "  </tbody>\n",
       "</table>\n",
       "</div>"
      ],
      "text/plain": [
       "                    mean      diff      risk\n",
       "dietary_habits                              \n",
       "0               0.317095  0.010645  1.034736\n",
       "1               0.306789  0.000338  1.001104\n",
       "2               0.278883 -0.027567  0.910043"
      ]
     },
     "metadata": {},
     "output_type": "display_data"
    },
    {
     "data": {
      "text/html": [
       "<div>\n",
       "<style scoped>\n",
       "    .dataframe tbody tr th:only-of-type {\n",
       "        vertical-align: middle;\n",
       "    }\n",
       "\n",
       "    .dataframe tbody tr th {\n",
       "        vertical-align: top;\n",
       "    }\n",
       "\n",
       "    .dataframe thead th {\n",
       "        text-align: right;\n",
       "    }\n",
       "</style>\n",
       "<table border=\"1\" class=\"dataframe\">\n",
       "  <thead>\n",
       "    <tr style=\"text-align: right;\">\n",
       "      <th></th>\n",
       "      <th>mean</th>\n",
       "      <th>diff</th>\n",
       "      <th>risk</th>\n",
       "    </tr>\n",
       "    <tr>\n",
       "      <th>sleep_patterns</th>\n",
       "      <th></th>\n",
       "      <th></th>\n",
       "      <th></th>\n",
       "    </tr>\n",
       "  </thead>\n",
       "  <tbody>\n",
       "    <tr>\n",
       "      <th>1</th>\n",
       "      <td>0.306414</td>\n",
       "      <td>-0.000037</td>\n",
       "      <td>0.999880</td>\n",
       "    </tr>\n",
       "    <tr>\n",
       "      <th>2</th>\n",
       "      <td>0.272418</td>\n",
       "      <td>-0.034032</td>\n",
       "      <td>0.888947</td>\n",
       "    </tr>\n",
       "    <tr>\n",
       "      <th>3</th>\n",
       "      <td>0.328327</td>\n",
       "      <td>0.021876</td>\n",
       "      <td>1.071386</td>\n",
       "    </tr>\n",
       "  </tbody>\n",
       "</table>\n",
       "</div>"
      ],
      "text/plain": [
       "                    mean      diff      risk\n",
       "sleep_patterns                              \n",
       "1               0.306414 -0.000037  0.999880\n",
       "2               0.272418 -0.034032  0.888947\n",
       "3               0.328327  0.021876  1.071386"
      ]
     },
     "metadata": {},
     "output_type": "display_data"
    },
    {
     "data": {
      "text/html": [
       "<div>\n",
       "<style scoped>\n",
       "    .dataframe tbody tr th:only-of-type {\n",
       "        vertical-align: middle;\n",
       "    }\n",
       "\n",
       "    .dataframe tbody tr th {\n",
       "        vertical-align: top;\n",
       "    }\n",
       "\n",
       "    .dataframe thead th {\n",
       "        text-align: right;\n",
       "    }\n",
       "</style>\n",
       "<table border=\"1\" class=\"dataframe\">\n",
       "  <thead>\n",
       "    <tr style=\"text-align: right;\">\n",
       "      <th></th>\n",
       "      <th>mean</th>\n",
       "      <th>diff</th>\n",
       "      <th>risk</th>\n",
       "    </tr>\n",
       "    <tr>\n",
       "      <th>history_of_substance_abuse</th>\n",
       "      <th></th>\n",
       "      <th></th>\n",
       "      <th></th>\n",
       "    </tr>\n",
       "  </thead>\n",
       "  <tbody>\n",
       "    <tr>\n",
       "      <th>0</th>\n",
       "      <td>0.306133</td>\n",
       "      <td>-0.000317</td>\n",
       "      <td>0.998965</td>\n",
       "    </tr>\n",
       "    <tr>\n",
       "      <th>1</th>\n",
       "      <td>0.307161</td>\n",
       "      <td>0.000710</td>\n",
       "      <td>1.002318</td>\n",
       "    </tr>\n",
       "  </tbody>\n",
       "</table>\n",
       "</div>"
      ],
      "text/plain": [
       "                                mean      diff      risk\n",
       "history_of_substance_abuse                              \n",
       "0                           0.306133 -0.000317  0.998965\n",
       "1                           0.307161  0.000710  1.002318"
      ]
     },
     "metadata": {},
     "output_type": "display_data"
    },
    {
     "data": {
      "text/html": [
       "<div>\n",
       "<style scoped>\n",
       "    .dataframe tbody tr th:only-of-type {\n",
       "        vertical-align: middle;\n",
       "    }\n",
       "\n",
       "    .dataframe tbody tr th {\n",
       "        vertical-align: top;\n",
       "    }\n",
       "\n",
       "    .dataframe thead th {\n",
       "        text-align: right;\n",
       "    }\n",
       "</style>\n",
       "<table border=\"1\" class=\"dataframe\">\n",
       "  <thead>\n",
       "    <tr style=\"text-align: right;\">\n",
       "      <th></th>\n",
       "      <th>mean</th>\n",
       "      <th>diff</th>\n",
       "      <th>risk</th>\n",
       "    </tr>\n",
       "    <tr>\n",
       "      <th>family_history_of_depression</th>\n",
       "      <th></th>\n",
       "      <th></th>\n",
       "      <th></th>\n",
       "    </tr>\n",
       "  </thead>\n",
       "  <tbody>\n",
       "    <tr>\n",
       "      <th>0</th>\n",
       "      <td>0.304992</td>\n",
       "      <td>-0.001459</td>\n",
       "      <td>0.995240</td>\n",
       "    </tr>\n",
       "    <tr>\n",
       "      <th>1</th>\n",
       "      <td>0.310149</td>\n",
       "      <td>0.003698</td>\n",
       "      <td>1.012068</td>\n",
       "    </tr>\n",
       "  </tbody>\n",
       "</table>\n",
       "</div>"
      ],
      "text/plain": [
       "                                  mean      diff      risk\n",
       "family_history_of_depression                              \n",
       "0                             0.304992 -0.001459  0.995240\n",
       "1                             0.310149  0.003698  1.012068"
      ]
     },
     "metadata": {},
     "output_type": "display_data"
    },
    {
     "data": {
      "text/html": [
       "<div>\n",
       "<style scoped>\n",
       "    .dataframe tbody tr th:only-of-type {\n",
       "        vertical-align: middle;\n",
       "    }\n",
       "\n",
       "    .dataframe tbody tr th {\n",
       "        vertical-align: top;\n",
       "    }\n",
       "\n",
       "    .dataframe thead th {\n",
       "        text-align: right;\n",
       "    }\n",
       "</style>\n",
       "<table border=\"1\" class=\"dataframe\">\n",
       "  <thead>\n",
       "    <tr style=\"text-align: right;\">\n",
       "      <th></th>\n",
       "      <th>mean</th>\n",
       "      <th>diff</th>\n",
       "      <th>risk</th>\n",
       "    </tr>\n",
       "    <tr>\n",
       "      <th>chronic_medical_conditions</th>\n",
       "      <th></th>\n",
       "      <th></th>\n",
       "      <th></th>\n",
       "    </tr>\n",
       "  </thead>\n",
       "  <tbody>\n",
       "    <tr>\n",
       "      <th>0</th>\n",
       "      <td>0.304296</td>\n",
       "      <td>-0.002155</td>\n",
       "      <td>0.992969</td>\n",
       "    </tr>\n",
       "    <tr>\n",
       "      <th>1</th>\n",
       "      <td>0.310891</td>\n",
       "      <td>0.004440</td>\n",
       "      <td>1.014490</td>\n",
       "    </tr>\n",
       "  </tbody>\n",
       "</table>\n",
       "</div>"
      ],
      "text/plain": [
       "                                mean      diff      risk\n",
       "chronic_medical_conditions                              \n",
       "0                           0.304296 -0.002155  0.992969\n",
       "1                           0.310891  0.004440  1.014490"
      ]
     },
     "metadata": {},
     "output_type": "display_data"
    }
   ],
   "source": [
    "global_mean = df.history_of_mental_illness.mean()\n",
    "for col in categorical:                                           \n",
    "    df_group =df.groupby(by=col).history_of_mental_illness.agg(['mean'])   \n",
    "    df_group['diff'] = df_group['mean'] - global_mean\n",
    "    df_group['risk'] = df_group['mean'] / global_mean\n",
    "    display(df_group)      "
   ]
  },
  {
   "cell_type": "code",
   "execution_count": 173,
   "id": "35450011",
   "metadata": {},
   "outputs": [
    {
     "data": {
      "text/html": [
       "<div>\n",
       "<style scoped>\n",
       "    .dataframe tbody tr th:only-of-type {\n",
       "        vertical-align: middle;\n",
       "    }\n",
       "\n",
       "    .dataframe tbody tr th {\n",
       "        vertical-align: top;\n",
       "    }\n",
       "\n",
       "    .dataframe thead th {\n",
       "        text-align: right;\n",
       "    }\n",
       "</style>\n",
       "<table border=\"1\" class=\"dataframe\">\n",
       "  <thead>\n",
       "    <tr style=\"text-align: right;\">\n",
       "      <th></th>\n",
       "      <th>MI</th>\n",
       "    </tr>\n",
       "  </thead>\n",
       "  <tbody>\n",
       "    <tr>\n",
       "      <th>employment_status</th>\n",
       "      <td>1.117820e-02</td>\n",
       "    </tr>\n",
       "    <tr>\n",
       "      <th>education_level</th>\n",
       "      <td>1.773643e-03</td>\n",
       "    </tr>\n",
       "    <tr>\n",
       "      <th>sleep_patterns</th>\n",
       "      <td>9.218318e-04</td>\n",
       "    </tr>\n",
       "    <tr>\n",
       "      <th>dietary_habits</th>\n",
       "      <td>4.152930e-04</td>\n",
       "    </tr>\n",
       "    <tr>\n",
       "      <th>marital_status</th>\n",
       "      <td>7.585078e-05</td>\n",
       "    </tr>\n",
       "    <tr>\n",
       "      <th>number_of_children</th>\n",
       "      <td>6.065718e-05</td>\n",
       "    </tr>\n",
       "    <tr>\n",
       "      <th>alcohol_consumption</th>\n",
       "      <td>5.454854e-05</td>\n",
       "    </tr>\n",
       "    <tr>\n",
       "      <th>physical_activity_level</th>\n",
       "      <td>4.344234e-05</td>\n",
       "    </tr>\n",
       "    <tr>\n",
       "      <th>smoking_status</th>\n",
       "      <td>3.831982e-05</td>\n",
       "    </tr>\n",
       "    <tr>\n",
       "      <th>chronic_medical_conditions</th>\n",
       "      <td>2.247804e-05</td>\n",
       "    </tr>\n",
       "    <tr>\n",
       "      <th>family_history_of_depression</th>\n",
       "      <td>1.267436e-05</td>\n",
       "    </tr>\n",
       "    <tr>\n",
       "      <th>history_of_substance_abuse</th>\n",
       "      <td>5.297637e-07</td>\n",
       "    </tr>\n",
       "  </tbody>\n",
       "</table>\n",
       "</div>"
      ],
      "text/plain": [
       "                                        MI\n",
       "employment_status             1.117820e-02\n",
       "education_level               1.773643e-03\n",
       "sleep_patterns                9.218318e-04\n",
       "dietary_habits                4.152930e-04\n",
       "marital_status                7.585078e-05\n",
       "number_of_children            6.065718e-05\n",
       "alcohol_consumption           5.454854e-05\n",
       "physical_activity_level       4.344234e-05\n",
       "smoking_status                3.831982e-05\n",
       "chronic_medical_conditions    2.247804e-05\n",
       "family_history_of_depression  1.267436e-05\n",
       "history_of_substance_abuse    5.297637e-07"
      ]
     },
     "execution_count": 173,
     "metadata": {},
     "output_type": "execute_result"
    }
   ],
   "source": [
    "# mutual information\n",
    "def calculate_mi(series):                                      \n",
    "    return mutual_info_score(series, df.history_of_mental_illness)     \n",
    " \n",
    "df_mi = df[categorical].apply(calculate_mi)        \n",
    "df_mi = df_mi.sort_values(ascending=False).to_frame(name='MI') \n",
    "df_mi"
   ]
  },
  {
   "cell_type": "code",
   "execution_count": 174,
   "id": "c9f8bab0",
   "metadata": {},
   "outputs": [],
   "source": [
    "# Correlation coefficient"
   ]
  },
  {
   "cell_type": "code",
   "execution_count": 175,
   "id": "fc60cea9",
   "metadata": {},
   "outputs": [
    {
     "data": {
      "text/plain": [
       "age       0.02603\n",
       "income   -0.14563\n",
       "dtype: float64"
      ]
     },
     "execution_count": 175,
     "metadata": {},
     "output_type": "execute_result"
    }
   ],
   "source": [
    "df[numerical].corrwith(df.history_of_mental_illness)"
   ]
  },
  {
   "cell_type": "code",
   "execution_count": 176,
   "id": "a60ca4d7",
   "metadata": {},
   "outputs": [
    {
     "data": {
      "image/png": "[encoded data removed]",
      "text/plain": [
       "<Figure size 640x480 with 1 Axes>"
      ]
     },
     "metadata": {},
     "output_type": "display_data"
    }
   ],
   "source": [
    "plt.hist(df.income)\n",
    "plt.show()"
   ]
  },
  {
   "cell_type": "code",
   "execution_count": 177,
   "id": "d18c1264",
   "metadata": {},
   "outputs": [
    {
     "data": {
      "text/html": [
       "<div>\n",
       "<style scoped>\n",
       "    .dataframe tbody tr th:only-of-type {\n",
       "        vertical-align: middle;\n",
       "    }\n",
       "\n",
       "    .dataframe tbody tr th {\n",
       "        vertical-align: top;\n",
       "    }\n",
       "\n",
       "    .dataframe thead th {\n",
       "        text-align: right;\n",
       "    }\n",
       "</style>\n",
       "<table border=\"1\" class=\"dataframe\">\n",
       "  <thead>\n",
       "    <tr style=\"text-align: right;\">\n",
       "      <th></th>\n",
       "      <th>age</th>\n",
       "      <th>marital_status</th>\n",
       "      <th>education_level</th>\n",
       "      <th>number_of_children</th>\n",
       "      <th>smoking_status</th>\n",
       "      <th>physical_activity_level</th>\n",
       "      <th>employment_status</th>\n",
       "      <th>income</th>\n",
       "      <th>alcohol_consumption</th>\n",
       "      <th>dietary_habits</th>\n",
       "      <th>sleep_patterns</th>\n",
       "      <th>history_of_mental_illness</th>\n",
       "      <th>history_of_substance_abuse</th>\n",
       "      <th>family_history_of_depression</th>\n",
       "      <th>chronic_medical_conditions</th>\n",
       "    </tr>\n",
       "  </thead>\n",
       "  <tbody>\n",
       "  </tbody>\n",
       "</table>\n",
       "</div>"
      ],
      "text/plain": [
       "Empty DataFrame\n",
       "Columns: [age, marital_status, education_level, number_of_children, smoking_status, physical_activity_level, employment_status, income, alcohol_consumption, dietary_habits, sleep_patterns, history_of_mental_illness, history_of_substance_abuse, family_history_of_depression, chronic_medical_conditions]\n",
       "Index: []"
      ]
     },
     "execution_count": 177,
     "metadata": {},
     "output_type": "execute_result"
    }
   ],
   "source": [
    "df[df.duplicated()]"
   ]
  },
  {
   "cell_type": "code",
   "execution_count": 178,
   "id": "aa78e682",
   "metadata": {},
   "outputs": [],
   "source": [
    "df1 = copy.deepcopy(df)"
   ]
  },
  {
   "cell_type": "code",
   "execution_count": 179,
   "id": "65d323c8",
   "metadata": {},
   "outputs": [],
   "source": [
    "columns_to_drop = ['marital_status', 'number_of_children',\n",
    "       'smoking_status', 'physical_activity_level',\n",
    "        'alcohol_consumption','history_of_substance_abuse',\n",
    "       'family_history_of_depression', 'chronic_medical_conditions', 'sleep_patterns']"
   ]
  },
  {
   "cell_type": "code",
   "execution_count": 180,
   "id": "03727928",
   "metadata": {},
   "outputs": [],
   "source": [
    "df = df.drop(columns= columns_to_drop)"
   ]
  },
  {
   "cell_type": "code",
   "execution_count": null,
   "id": "009c4e4c",
   "metadata": {},
   "outputs": [],
   "source": []
  },
  {
   "cell_type": "markdown",
   "id": "abc170ff",
   "metadata": {},
   "source": [
    "# data split"
   ]
  },
  {
   "cell_type": "code",
   "execution_count": 181,
   "id": "d47637e2",
   "metadata": {},
   "outputs": [],
   "source": [
    "df_train_full, df_test = train_test_split(df, test_size=0.2, random_state=1)"
   ]
  },
  {
   "cell_type": "code",
   "execution_count": 182,
   "id": "04892e73",
   "metadata": {},
   "outputs": [],
   "source": [
    "df.to_csv('df_train_ful.csv')\n",
    "df.to_csv('df_test.csv')"
   ]
  },
  {
   "cell_type": "code",
   "execution_count": 183,
   "id": "29478346",
   "metadata": {},
   "outputs": [],
   "source": [
    "df_train, df_val = train_test_split(df_train_full, test_size=0.33, random_state=11)             \n",
    "y_train = df_train.history_of_mental_illness.values   \n",
    "y_val = df_val.history_of_mental_illness.values       \n",
    " \n",
    "del df_train['history_of_mental_illness']             \n",
    "del df_val['history_of_mental_illness']    "
   ]
  },
  {
   "cell_type": "code",
   "execution_count": 184,
   "id": "031f9f79",
   "metadata": {},
   "outputs": [],
   "source": [
    "# Saving the data sets\n",
    "#df.to_csv('df_train_ful.csv')\n",
    "#df.to_csv('df_test.csv')\n",
    "#df.to_csv('df_train.csv')\n",
    "#df.to_csv('df_val.csv')\n",
    "#df.to_csv('y_train.csv')\n",
    "#df.to_csv('y_val.csv')"
   ]
  },
  {
   "cell_type": "code",
   "execution_count": 185,
   "id": "0a8f70c2",
   "metadata": {},
   "outputs": [
    {
     "data": {
      "text/plain": [
       "Index(['age', 'education_level', 'employment_status', 'income',\n",
       "       'dietary_habits', 'history_of_mental_illness'],\n",
       "      dtype='object')"
      ]
     },
     "execution_count": 185,
     "metadata": {},
     "output_type": "execute_result"
    }
   ],
   "source": [
    "df.columns"
   ]
  },
  {
   "cell_type": "markdown",
   "id": "3c67ab2a",
   "metadata": {},
   "source": [
    "# feature engineering  and transformation\n"
   ]
  },
  {
   "cell_type": "code",
   "execution_count": 186,
   "id": "3865f939",
   "metadata": {},
   "outputs": [],
   "source": [
    "categorical = ['education_level','employment_status',\n",
    "        'dietary_habits']\n",
    "numerical = ['age', 'income']"
   ]
  },
  {
   "cell_type": "code",
   "execution_count": 187,
   "id": "e29fdae5",
   "metadata": {},
   "outputs": [],
   "source": [
    "# scale numerical columns\n",
    "sc = StandardScaler()\n",
    "cols_to_scale = df_train[['age','income']].columns.tolist()\n",
    "cols_to_scale\n",
    "df_train.loc[:,cols_to_scale] = sc.fit_transform(df_train.loc[:,cols_to_scale])\n",
    "# encode cat and numerical columns\n",
    "train_dict = df_train[categorical + numerical].to_dict(orient='records')"
   ]
  },
  {
   "cell_type": "code",
   "execution_count": 188,
   "id": "0b795589",
   "metadata": {},
   "outputs": [
    {
     "data": {
      "text/html": [
       "<style>#sk-container-id-5 {color: black;}#sk-container-id-5 pre{padding: 0;}#sk-container-id-5 div.sk-toggleable {background-color: white;}#sk-container-id-5 label.sk-toggleable__label {cursor: pointer;display: block;width: 100%;margin-bottom: 0;padding: 0.3em;box-sizing: border-box;text-align: center;}#sk-container-id-5 label.sk-toggleable__label-arrow:before {content: \"▸\";float: left;margin-right: 0.25em;color: #696969;}#sk-container-id-5 label.sk-toggleable__label-arrow:hover:before {color: black;}#sk-container-id-5 div.sk-estimator:hover label.sk-toggleable__label-arrow:before {color: black;}#sk-container-id-5 div.sk-toggleable__content {max-height: 0;max-width: 0;overflow: hidden;text-align: left;background-color: #f0f8ff;}#sk-container-id-5 div.sk-toggleable__content pre {margin: 0.2em;color: black;border-radius: 0.25em;background-color: #f0f8ff;}#sk-container-id-5 input.sk-toggleable__control:checked~div.sk-toggleable__content {max-height: 200px;max-width: 100%;overflow: auto;}#sk-container-id-5 input.sk-toggleable__control:checked~label.sk-toggleable__label-arrow:before {content: \"▾\";}#sk-container-id-5 div.sk-estimator input.sk-toggleable__control:checked~label.sk-toggleable__label {background-color: #d4ebff;}#sk-container-id-5 div.sk-label input.sk-toggleable__control:checked~label.sk-toggleable__label {background-color: #d4ebff;}#sk-container-id-5 input.sk-hidden--visually {border: 0;clip: rect(1px 1px 1px 1px);clip: rect(1px, 1px, 1px, 1px);height: 1px;margin: -1px;overflow: hidden;padding: 0;position: absolute;width: 1px;}#sk-container-id-5 div.sk-estimator {font-family: monospace;background-color: #f0f8ff;border: 1px dotted black;border-radius: 0.25em;box-sizing: border-box;margin-bottom: 0.5em;}#sk-container-id-5 div.sk-estimator:hover {background-color: #d4ebff;}#sk-container-id-5 div.sk-parallel-item::after {content: \"\";width: 100%;border-bottom: 1px solid gray;flex-grow: 1;}#sk-container-id-5 div.sk-label:hover label.sk-toggleable__label {background-color: #d4ebff;}#sk-container-id-5 div.sk-serial::before {content: \"\";position: absolute;border-left: 1px solid gray;box-sizing: border-box;top: 0;bottom: 0;left: 50%;z-index: 0;}#sk-container-id-5 div.sk-serial {display: flex;flex-direction: column;align-items: center;background-color: white;padding-right: 0.2em;padding-left: 0.2em;position: relative;}#sk-container-id-5 div.sk-item {position: relative;z-index: 1;}#sk-container-id-5 div.sk-parallel {display: flex;align-items: stretch;justify-content: center;background-color: white;position: relative;}#sk-container-id-5 div.sk-item::before, #sk-container-id-5 div.sk-parallel-item::before {content: \"\";position: absolute;border-left: 1px solid gray;box-sizing: border-box;top: 0;bottom: 0;left: 50%;z-index: -1;}#sk-container-id-5 div.sk-parallel-item {display: flex;flex-direction: column;z-index: 1;position: relative;background-color: white;}#sk-container-id-5 div.sk-parallel-item:first-child::after {align-self: flex-end;width: 50%;}#sk-container-id-5 div.sk-parallel-item:last-child::after {align-self: flex-start;width: 50%;}#sk-container-id-5 div.sk-parallel-item:only-child::after {width: 0;}#sk-container-id-5 div.sk-dashed-wrapped {border: 1px dashed gray;margin: 0 0.4em 0.5em 0.4em;box-sizing: border-box;padding-bottom: 0.4em;background-color: white;}#sk-container-id-5 div.sk-label label {font-family: monospace;font-weight: bold;display: inline-block;line-height: 1.2em;}#sk-container-id-5 div.sk-label-container {text-align: center;}#sk-container-id-5 div.sk-container {/* jupyter's `normalize.less` sets `[hidden] { display: none; }` but bootstrap.min.css set `[hidden] { display: none !important; }` so we also need the `!important` here to be able to override the default hidden behavior on the sphinx rendered scikit-learn.org. See: https://github.com/scikit-learn/scikit-learn/issues/21755 */display: inline-block !important;position: relative;}#sk-container-id-5 div.sk-text-repr-fallback {display: none;}</style><div id=\"sk-container-id-5\" class=\"sk-top-container\"><div class=\"sk-text-repr-fallback\"><pre>DictVectorizer(sparse=False)</pre><b>In a Jupyter environment, please rerun this cell to show the HTML representation or trust the notebook. <br />On GitHub, the HTML representation is unable to render, please try loading this page with nbviewer.org.</b></div><div class=\"sk-container\" hidden><div class=\"sk-item\"><div class=\"sk-estimator sk-toggleable\"><input class=\"sk-toggleable__control sk-hidden--visually\" id=\"sk-estimator-id-5\" type=\"checkbox\" checked><label for=\"sk-estimator-id-5\" class=\"sk-toggleable__label sk-toggleable__label-arrow\">DictVectorizer</label><div class=\"sk-toggleable__content\"><pre>DictVectorizer(sparse=False)</pre></div></div></div></div></div>"
      ],
      "text/plain": [
       "DictVectorizer(sparse=False)"
      ]
     },
     "execution_count": 188,
     "metadata": {},
     "output_type": "execute_result"
    }
   ],
   "source": [
    "dv = DictVectorizer(sparse=False)\n",
    "dv.fit(train_dict)"
   ]
  },
  {
   "cell_type": "code",
   "execution_count": 189,
   "id": "d4a9c124",
   "metadata": {},
   "outputs": [],
   "source": [
    "X_train = dv.transform(train_dict)"
   ]
  },
  {
   "cell_type": "code",
   "execution_count": 190,
   "id": "ccbe68d7",
   "metadata": {},
   "outputs": [
    {
     "data": {
      "text/plain": [
       "array(['age', 'dietary_habits', 'education_level', 'employment_status',\n",
       "       'income'], dtype=object)"
      ]
     },
     "execution_count": 190,
     "metadata": {},
     "output_type": "execute_result"
    }
   ],
   "source": [
    "dv.get_feature_names_out()"
   ]
  },
  {
   "cell_type": "markdown",
   "id": "4742b49e",
   "metadata": {},
   "source": [
    "# LR Model"
   ]
  },
  {
   "cell_type": "code",
   "execution_count": 191,
   "id": "fcf5d3df",
   "metadata": {},
   "outputs": [
    {
     "data": {
      "text/html": [
       "<style>#sk-container-id-6 {color: black;}#sk-container-id-6 pre{padding: 0;}#sk-container-id-6 div.sk-toggleable {background-color: white;}#sk-container-id-6 label.sk-toggleable__label {cursor: pointer;display: block;width: 100%;margin-bottom: 0;padding: 0.3em;box-sizing: border-box;text-align: center;}#sk-container-id-6 label.sk-toggleable__label-arrow:before {content: \"▸\";float: left;margin-right: 0.25em;color: #696969;}#sk-container-id-6 label.sk-toggleable__label-arrow:hover:before {color: black;}#sk-container-id-6 div.sk-estimator:hover label.sk-toggleable__label-arrow:before {color: black;}#sk-container-id-6 div.sk-toggleable__content {max-height: 0;max-width: 0;overflow: hidden;text-align: left;background-color: #f0f8ff;}#sk-container-id-6 div.sk-toggleable__content pre {margin: 0.2em;color: black;border-radius: 0.25em;background-color: #f0f8ff;}#sk-container-id-6 input.sk-toggleable__control:checked~div.sk-toggleable__content {max-height: 200px;max-width: 100%;overflow: auto;}#sk-container-id-6 input.sk-toggleable__control:checked~label.sk-toggleable__label-arrow:before {content: \"▾\";}#sk-container-id-6 div.sk-estimator input.sk-toggleable__control:checked~label.sk-toggleable__label {background-color: #d4ebff;}#sk-container-id-6 div.sk-label input.sk-toggleable__control:checked~label.sk-toggleable__label {background-color: #d4ebff;}#sk-container-id-6 input.sk-hidden--visually {border: 0;clip: rect(1px 1px 1px 1px);clip: rect(1px, 1px, 1px, 1px);height: 1px;margin: -1px;overflow: hidden;padding: 0;position: absolute;width: 1px;}#sk-container-id-6 div.sk-estimator {font-family: monospace;background-color: #f0f8ff;border: 1px dotted black;border-radius: 0.25em;box-sizing: border-box;margin-bottom: 0.5em;}#sk-container-id-6 div.sk-estimator:hover {background-color: #d4ebff;}#sk-container-id-6 div.sk-parallel-item::after {content: \"\";width: 100%;border-bottom: 1px solid gray;flex-grow: 1;}#sk-container-id-6 div.sk-label:hover label.sk-toggleable__label {background-color: #d4ebff;}#sk-container-id-6 div.sk-serial::before {content: \"\";position: absolute;border-left: 1px solid gray;box-sizing: border-box;top: 0;bottom: 0;left: 50%;z-index: 0;}#sk-container-id-6 div.sk-serial {display: flex;flex-direction: column;align-items: center;background-color: white;padding-right: 0.2em;padding-left: 0.2em;position: relative;}#sk-container-id-6 div.sk-item {position: relative;z-index: 1;}#sk-container-id-6 div.sk-parallel {display: flex;align-items: stretch;justify-content: center;background-color: white;position: relative;}#sk-container-id-6 div.sk-item::before, #sk-container-id-6 div.sk-parallel-item::before {content: \"\";position: absolute;border-left: 1px solid gray;box-sizing: border-box;top: 0;bottom: 0;left: 50%;z-index: -1;}#sk-container-id-6 div.sk-parallel-item {display: flex;flex-direction: column;z-index: 1;position: relative;background-color: white;}#sk-container-id-6 div.sk-parallel-item:first-child::after {align-self: flex-end;width: 50%;}#sk-container-id-6 div.sk-parallel-item:last-child::after {align-self: flex-start;width: 50%;}#sk-container-id-6 div.sk-parallel-item:only-child::after {width: 0;}#sk-container-id-6 div.sk-dashed-wrapped {border: 1px dashed gray;margin: 0 0.4em 0.5em 0.4em;box-sizing: border-box;padding-bottom: 0.4em;background-color: white;}#sk-container-id-6 div.sk-label label {font-family: monospace;font-weight: bold;display: inline-block;line-height: 1.2em;}#sk-container-id-6 div.sk-label-container {text-align: center;}#sk-container-id-6 div.sk-container {/* jupyter's `normalize.less` sets `[hidden] { display: none; }` but bootstrap.min.css set `[hidden] { display: none !important; }` so we also need the `!important` here to be able to override the default hidden behavior on the sphinx rendered scikit-learn.org. See: https://github.com/scikit-learn/scikit-learn/issues/21755 */display: inline-block !important;position: relative;}#sk-container-id-6 div.sk-text-repr-fallback {display: none;}</style><div id=\"sk-container-id-6\" class=\"sk-top-container\"><div class=\"sk-text-repr-fallback\"><pre>LogisticRegression(random_state=1, solver=&#x27;liblinear&#x27;)</pre><b>In a Jupyter environment, please rerun this cell to show the HTML representation or trust the notebook. <br />On GitHub, the HTML representation is unable to render, please try loading this page with nbviewer.org.</b></div><div class=\"sk-container\" hidden><div class=\"sk-item\"><div class=\"sk-estimator sk-toggleable\"><input class=\"sk-toggleable__control sk-hidden--visually\" id=\"sk-estimator-id-6\" type=\"checkbox\" checked><label for=\"sk-estimator-id-6\" class=\"sk-toggleable__label sk-toggleable__label-arrow\">LogisticRegression</label><div class=\"sk-toggleable__content\"><pre>LogisticRegression(random_state=1, solver=&#x27;liblinear&#x27;)</pre></div></div></div></div></div>"
      ],
      "text/plain": [
       "LogisticRegression(random_state=1, solver='liblinear')"
      ]
     },
     "execution_count": 191,
     "metadata": {},
     "output_type": "execute_result"
    }
   ],
   "source": [
    "model = LogisticRegression(solver='liblinear', random_state=1)\n",
    "model.fit(X_train, y_train)"
   ]
  },
  {
   "cell_type": "code",
   "execution_count": 192,
   "id": "b188fc32",
   "metadata": {},
   "outputs": [
    {
     "data": {
      "text/plain": [
       "-0.44094151280682325"
      ]
     },
     "execution_count": 192,
     "metadata": {},
     "output_type": "execute_result"
    }
   ],
   "source": [
    "model.intercept_[0]"
   ]
  },
  {
   "cell_type": "code",
   "execution_count": 193,
   "id": "02e2b780",
   "metadata": {},
   "outputs": [
    {
     "data": {
      "text/plain": [
       "{'age': -0.003,\n",
       " 'dietary_habits': -0.027,\n",
       " 'education_level': -0.039,\n",
       " 'employment_status': -0.458,\n",
       " 'income': -0.151}"
      ]
     },
     "execution_count": 193,
     "metadata": {},
     "output_type": "execute_result"
    }
   ],
   "source": [
    "dict(zip(dv.get_feature_names_out(), model.coef_[0].round(3)))"
   ]
  },
  {
   "cell_type": "code",
   "execution_count": 194,
   "id": "cbf737bd",
   "metadata": {},
   "outputs": [],
   "source": [
    "# apply model to validation data set\n",
    "cols_to_scale =df_val[['age','income']].columns.tolist()\n",
    "cols_to_scale\n",
    "df_val.loc[:,cols_to_scale] = sc.fit_transform(df_val.loc[:,cols_to_scale])  "
   ]
  },
  {
   "cell_type": "code",
   "execution_count": 195,
   "id": "fb392f65",
   "metadata": {},
   "outputs": [],
   "source": [
    "# encode cat and numerical columns\n",
    "val_dict = df_val[categorical + numerical].to_dict(orient='records')\n",
    "X_val =dv.transform(val_dict)  "
   ]
  },
  {
   "cell_type": "code",
   "execution_count": 196,
   "id": "c9af20ee",
   "metadata": {},
   "outputs": [],
   "source": [
    "# estimate propability on validation set\n",
    "y_pred = model.predict_proba(X_val)"
   ]
  },
  {
   "cell_type": "code",
   "execution_count": 197,
   "id": "498bcfba",
   "metadata": {},
   "outputs": [
    {
     "data": {
      "text/plain": [
       "array([0.20684099, 0.38429239, 0.41048505, ..., 0.27455222, 0.28601989,\n",
       "       0.37551353])"
      ]
     },
     "execution_count": 197,
     "metadata": {},
     "output_type": "execute_result"
    }
   ],
   "source": [
    "# probabilities of mental health\n",
    "y_pred = model.predict_proba(X_val)[:, 1]\n",
    "y_pred"
   ]
  },
  {
   "cell_type": "code",
   "execution_count": 198,
   "id": "90546af5",
   "metadata": {},
   "outputs": [
    {
     "data": {
      "text/plain": [
       "array([False, False, False, ..., False, False, False])"
      ]
     },
     "execution_count": 198,
     "metadata": {},
     "output_type": "execute_result"
    }
   ],
   "source": [
    "y_pred >= 0.5"
   ]
  },
  {
   "cell_type": "code",
   "execution_count": 199,
   "id": "530167ec",
   "metadata": {},
   "outputs": [
    {
     "data": {
      "text/plain": [
       "0.6938557054163991"
      ]
     },
     "execution_count": 199,
     "metadata": {},
     "output_type": "execute_result"
    }
   ],
   "source": [
    "# Accuracy\n",
    "\n",
    "MH = y_pred >= 0.5\n",
    "\n",
    "(MH == y_val).mean()  "
   ]
  },
  {
   "cell_type": "code",
   "execution_count": 200,
   "id": "ed2984b9",
   "metadata": {},
   "outputs": [],
   "source": [
    "# Now we can loop over different thresholds and check which one gives the best accuracy:"
   ]
  },
  {
   "cell_type": "code",
   "execution_count": 201,
   "id": "e5e0a87e",
   "metadata": {},
   "outputs": [
    {
     "name": "stdout",
     "output_type": "stream",
     "text": [
      "0.000 0.3061\n",
      "0.100 0.3061\n",
      "0.200 0.3405\n",
      "0.300 0.6086\n",
      "0.400 0.6659\n",
      "0.500 0.6939\n",
      "0.600 0.6939\n",
      "0.700 0.6939\n",
      "0.800 0.6939\n",
      "0.900 0.6939\n",
      "1.000 0.6939\n"
     ]
    }
   ],
   "source": [
    "thresholds = np.linspace(0, 1, 11)       \n",
    " \n",
    "for t in thresholds:                     \n",
    "    MH = y_pred >= t                  \n",
    "    acc = accuracy_score(y_val, MH)   \n",
    "    print('%0.3f %0.4f' % (t, acc)) "
   ]
  },
  {
   "cell_type": "code",
   "execution_count": 202,
   "id": "d3037f53",
   "metadata": {},
   "outputs": [],
   "source": [
    "# check accuracy of baseline model to see how well it is peforming compared to the fitted model\n",
    "size_val = len(y_val)                   \n",
    "baseline = np.repeat(False, size_val)   "
   ]
  },
  {
   "cell_type": "code",
   "execution_count": 203,
   "id": "0bb967ee",
   "metadata": {},
   "outputs": [
    {
     "data": {
      "text/plain": [
       "0.6938557054163991"
      ]
     },
     "execution_count": 203,
     "metadata": {},
     "output_type": "execute_result"
    }
   ],
   "source": [
    "accuracy_score(baseline, y_val)"
   ]
  },
  {
   "cell_type": "code",
   "execution_count": null,
   "id": "68c8777e",
   "metadata": {},
   "outputs": [],
   "source": []
  },
  {
   "cell_type": "code",
   "execution_count": 204,
   "id": "a10048a4",
   "metadata": {},
   "outputs": [],
   "source": [
    "# Because of class imbalannce, accuracy is not the best matrix to use to evaluate the model\n",
    "# Applying ROC to evaluate the performance of model af varius thresholds"
   ]
  },
  {
   "cell_type": "code",
   "execution_count": 205,
   "id": "dcbf238c",
   "metadata": {},
   "outputs": [
    {
     "data": {
      "text/plain": [
       "0.603881544084675"
      ]
     },
     "execution_count": 205,
     "metadata": {},
     "output_type": "execute_result"
    }
   ],
   "source": [
    "# get AUC\n",
    "roc_auc_score(y_val, y_pred)"
   ]
  },
  {
   "cell_type": "markdown",
   "id": "782906f1",
   "metadata": {},
   "source": [
    "# Decision Tree Model"
   ]
  },
  {
   "cell_type": "code",
   "execution_count": 206,
   "id": "79002d42",
   "metadata": {},
   "outputs": [
    {
     "data": {
      "text/plain": [
       "array([0., 0., 1., ..., 0., 0., 0.])"
      ]
     },
     "execution_count": 206,
     "metadata": {},
     "output_type": "execute_result"
    }
   ],
   "source": [
    "dtree = DecisionTreeClassifier()\n",
    "dtree = dtree.fit(X_train, y_train)\n",
    "y_pred_tree = dtree.predict_proba(X_val)[:, 1]\n",
    "y_pred_tree \n",
    "\n"
   ]
  },
  {
   "cell_type": "code",
   "execution_count": 207,
   "id": "05b0f064",
   "metadata": {},
   "outputs": [
    {
     "data": {
      "text/plain": [
       "0.5170749533207809"
      ]
     },
     "execution_count": 207,
     "metadata": {},
     "output_type": "execute_result"
    }
   ],
   "source": [
    "roc_auc_score(y_val, y_pred_tree )"
   ]
  },
  {
   "cell_type": "markdown",
   "id": "0567ed00",
   "metadata": {},
   "source": [
    "# Random Forest Model"
   ]
  },
  {
   "cell_type": "code",
   "execution_count": 208,
   "id": "2ade463c",
   "metadata": {},
   "outputs": [],
   "source": [
    "import sklearn.ensemble as sk\n",
    "clf = sk.RandomForestClassifier(n_estimators=100)\n",
    "clf = clf.fit(X_train, y_train)"
   ]
  },
  {
   "cell_type": "code",
   "execution_count": 209,
   "id": "186780ef",
   "metadata": {},
   "outputs": [
    {
     "data": {
      "text/plain": [
       "array([0.05, 0.22, 0.82, ..., 0.14, 0.91, 0.19])"
      ]
     },
     "execution_count": 209,
     "metadata": {},
     "output_type": "execute_result"
    }
   ],
   "source": [
    "y_pred_clf = clf.predict_proba(X_val)[:, 1]\n",
    "y_pred_clf "
   ]
  },
  {
   "cell_type": "code",
   "execution_count": 210,
   "id": "da0f3fc2",
   "metadata": {},
   "outputs": [
    {
     "data": {
      "text/plain": [
       "0.5389667362785546"
      ]
     },
     "execution_count": 210,
     "metadata": {},
     "output_type": "execute_result"
    }
   ],
   "source": [
    "roc_auc_score(y_val, y_pred_clf )"
   ]
  },
  {
   "cell_type": "code",
   "execution_count": 211,
   "id": "efd8ecb1",
   "metadata": {},
   "outputs": [
    {
     "data": {
      "text/plain": [
       "<matplotlib.legend.Legend at 0x2c714b4c810>"
      ]
     },
     "execution_count": 211,
     "metadata": {},
     "output_type": "execute_result"
    },
    {
     "data": {
      "image/png": "[encoded data removed]",
      "text/plain": [
       "<Figure size 500x500 with 1 Axes>"
      ]
     },
     "metadata": {},
     "output_type": "display_data"
    }
   ],
   "source": [
    "fpr_lr, tpr_lr, _ = roc_curve(y_val, y_pred)\n",
    "fpr_tree, tpr_tree, _ = roc_curve(y_val, y_pred_tree)\n",
    "fpr_clf, tpr_clf, _ = roc_curve(y_val, y_pred_clf)\n",
    " \n",
    "plt.figure(figsize=(5, 5))\n",
    " \n",
    "plt.plot(fpr_lr, tpr_lr, color='red', label='Large')\n",
    "plt.plot(fpr_tree, tpr_tree, color='blue', label='Small')\n",
    "plt.plot(fpr_clf, tpr_clf, color='orange', label='Large')\n",
    "plt.plot([0, 1], [0, 1])\n",
    "plt.legend()"
   ]
  },
  {
   "cell_type": "code",
   "execution_count": 212,
   "id": "e50e63dc",
   "metadata": {},
   "outputs": [],
   "source": [
    "# Logistic regression model is the best with highest AUC\n",
    "# Fit the model with variables with highest MI"
   ]
  },
  {
   "cell_type": "code",
   "execution_count": 213,
   "id": "6a83e037",
   "metadata": {},
   "outputs": [
    {
     "data": {
      "text/html": [
       "<div>\n",
       "<style scoped>\n",
       "    .dataframe tbody tr th:only-of-type {\n",
       "        vertical-align: middle;\n",
       "    }\n",
       "\n",
       "    .dataframe tbody tr th {\n",
       "        vertical-align: top;\n",
       "    }\n",
       "\n",
       "    .dataframe thead th {\n",
       "        text-align: right;\n",
       "    }\n",
       "</style>\n",
       "<table border=\"1\" class=\"dataframe\">\n",
       "  <thead>\n",
       "    <tr style=\"text-align: right;\">\n",
       "      <th></th>\n",
       "      <th>age</th>\n",
       "      <th>marital_status</th>\n",
       "      <th>education_level</th>\n",
       "      <th>number_of_children</th>\n",
       "      <th>smoking_status</th>\n",
       "      <th>physical_activity_level</th>\n",
       "      <th>employment_status</th>\n",
       "      <th>income</th>\n",
       "      <th>alcohol_consumption</th>\n",
       "      <th>dietary_habits</th>\n",
       "      <th>sleep_patterns</th>\n",
       "      <th>history_of_mental_illness</th>\n",
       "      <th>history_of_substance_abuse</th>\n",
       "      <th>family_history_of_depression</th>\n",
       "      <th>chronic_medical_conditions</th>\n",
       "    </tr>\n",
       "  </thead>\n",
       "  <tbody>\n",
       "    <tr>\n",
       "      <th>0</th>\n",
       "      <td>18</td>\n",
       "      <td>1</td>\n",
       "      <td>1</td>\n",
       "      <td>0</td>\n",
       "      <td>2</td>\n",
       "      <td>1</td>\n",
       "      <td>1</td>\n",
       "      <td>36243.89</td>\n",
       "      <td>2</td>\n",
       "      <td>0</td>\n",
       "      <td>2</td>\n",
       "      <td>0</td>\n",
       "      <td>0</td>\n",
       "      <td>0</td>\n",
       "      <td>0</td>\n",
       "    </tr>\n",
       "    <tr>\n",
       "      <th>1</th>\n",
       "      <td>18</td>\n",
       "      <td>1</td>\n",
       "      <td>1</td>\n",
       "      <td>0</td>\n",
       "      <td>3</td>\n",
       "      <td>2</td>\n",
       "      <td>1</td>\n",
       "      <td>30572.11</td>\n",
       "      <td>2</td>\n",
       "      <td>0</td>\n",
       "      <td>2</td>\n",
       "      <td>0</td>\n",
       "      <td>0</td>\n",
       "      <td>1</td>\n",
       "      <td>0</td>\n",
       "    </tr>\n",
       "    <tr>\n",
       "      <th>2</th>\n",
       "      <td>18</td>\n",
       "      <td>1</td>\n",
       "      <td>1</td>\n",
       "      <td>0</td>\n",
       "      <td>2</td>\n",
       "      <td>1</td>\n",
       "      <td>0</td>\n",
       "      <td>28757.39</td>\n",
       "      <td>3</td>\n",
       "      <td>0</td>\n",
       "      <td>3</td>\n",
       "      <td>1</td>\n",
       "      <td>0</td>\n",
       "      <td>1</td>\n",
       "      <td>0</td>\n",
       "    </tr>\n",
       "    <tr>\n",
       "      <th>3</th>\n",
       "      <td>18</td>\n",
       "      <td>1</td>\n",
       "      <td>1</td>\n",
       "      <td>0</td>\n",
       "      <td>1</td>\n",
       "      <td>1</td>\n",
       "      <td>1</td>\n",
       "      <td>24127.58</td>\n",
       "      <td>3</td>\n",
       "      <td>0</td>\n",
       "      <td>1</td>\n",
       "      <td>1</td>\n",
       "      <td>1</td>\n",
       "      <td>0</td>\n",
       "      <td>0</td>\n",
       "    </tr>\n",
       "    <tr>\n",
       "      <th>4</th>\n",
       "      <td>18</td>\n",
       "      <td>1</td>\n",
       "      <td>1</td>\n",
       "      <td>0</td>\n",
       "      <td>3</td>\n",
       "      <td>2</td>\n",
       "      <td>1</td>\n",
       "      <td>38191.53</td>\n",
       "      <td>1</td>\n",
       "      <td>1</td>\n",
       "      <td>2</td>\n",
       "      <td>0</td>\n",
       "      <td>1</td>\n",
       "      <td>0</td>\n",
       "      <td>1</td>\n",
       "    </tr>\n",
       "    <tr>\n",
       "      <th>...</th>\n",
       "      <td>...</td>\n",
       "      <td>...</td>\n",
       "      <td>...</td>\n",
       "      <td>...</td>\n",
       "      <td>...</td>\n",
       "      <td>...</td>\n",
       "      <td>...</td>\n",
       "      <td>...</td>\n",
       "      <td>...</td>\n",
       "      <td>...</td>\n",
       "      <td>...</td>\n",
       "      <td>...</td>\n",
       "      <td>...</td>\n",
       "      <td>...</td>\n",
       "      <td>...</td>\n",
       "    </tr>\n",
       "    <tr>\n",
       "      <th>194617</th>\n",
       "      <td>80</td>\n",
       "      <td>3</td>\n",
       "      <td>3</td>\n",
       "      <td>2</td>\n",
       "      <td>3</td>\n",
       "      <td>2</td>\n",
       "      <td>0</td>\n",
       "      <td>10660.86</td>\n",
       "      <td>1</td>\n",
       "      <td>2</td>\n",
       "      <td>3</td>\n",
       "      <td>0</td>\n",
       "      <td>0</td>\n",
       "      <td>1</td>\n",
       "      <td>0</td>\n",
       "    </tr>\n",
       "    <tr>\n",
       "      <th>194618</th>\n",
       "      <td>80</td>\n",
       "      <td>3</td>\n",
       "      <td>3</td>\n",
       "      <td>2</td>\n",
       "      <td>3</td>\n",
       "      <td>2</td>\n",
       "      <td>0</td>\n",
       "      <td>3453.10</td>\n",
       "      <td>1</td>\n",
       "      <td>1</td>\n",
       "      <td>1</td>\n",
       "      <td>0</td>\n",
       "      <td>0</td>\n",
       "      <td>1</td>\n",
       "      <td>1</td>\n",
       "    </tr>\n",
       "    <tr>\n",
       "      <th>194619</th>\n",
       "      <td>80</td>\n",
       "      <td>3</td>\n",
       "      <td>5</td>\n",
       "      <td>1</td>\n",
       "      <td>3</td>\n",
       "      <td>3</td>\n",
       "      <td>1</td>\n",
       "      <td>128807.63</td>\n",
       "      <td>2</td>\n",
       "      <td>0</td>\n",
       "      <td>2</td>\n",
       "      <td>0</td>\n",
       "      <td>1</td>\n",
       "      <td>1</td>\n",
       "      <td>0</td>\n",
       "    </tr>\n",
       "    <tr>\n",
       "      <th>194620</th>\n",
       "      <td>80</td>\n",
       "      <td>3</td>\n",
       "      <td>4</td>\n",
       "      <td>2</td>\n",
       "      <td>2</td>\n",
       "      <td>2</td>\n",
       "      <td>1</td>\n",
       "      <td>108060.04</td>\n",
       "      <td>1</td>\n",
       "      <td>1</td>\n",
       "      <td>2</td>\n",
       "      <td>0</td>\n",
       "      <td>0</td>\n",
       "      <td>0</td>\n",
       "      <td>1</td>\n",
       "    </tr>\n",
       "    <tr>\n",
       "      <th>194621</th>\n",
       "      <td>80</td>\n",
       "      <td>2</td>\n",
       "      <td>1</td>\n",
       "      <td>3</td>\n",
       "      <td>3</td>\n",
       "      <td>3</td>\n",
       "      <td>1</td>\n",
       "      <td>22511.65</td>\n",
       "      <td>2</td>\n",
       "      <td>0</td>\n",
       "      <td>1</td>\n",
       "      <td>0</td>\n",
       "      <td>1</td>\n",
       "      <td>1</td>\n",
       "      <td>0</td>\n",
       "    </tr>\n",
       "  </tbody>\n",
       "</table>\n",
       "<p>194622 rows × 15 columns</p>\n",
       "</div>"
      ],
      "text/plain": [
       "        age  marital_status  education_level  number_of_children  \\\n",
       "0        18               1                1                   0   \n",
       "1        18               1                1                   0   \n",
       "2        18               1                1                   0   \n",
       "3        18               1                1                   0   \n",
       "4        18               1                1                   0   \n",
       "...     ...             ...              ...                 ...   \n",
       "194617   80               3                3                   2   \n",
       "194618   80               3                3                   2   \n",
       "194619   80               3                5                   1   \n",
       "194620   80               3                4                   2   \n",
       "194621   80               2                1                   3   \n",
       "\n",
       "        smoking_status  physical_activity_level  employment_status     income  \\\n",
       "0                    2                        1                  1   36243.89   \n",
       "1                    3                        2                  1   30572.11   \n",
       "2                    2                        1                  0   28757.39   \n",
       "3                    1                        1                  1   24127.58   \n",
       "4                    3                        2                  1   38191.53   \n",
       "...                ...                      ...                ...        ...   \n",
       "194617               3                        2                  0   10660.86   \n",
       "194618               3                        2                  0    3453.10   \n",
       "194619               3                        3                  1  128807.63   \n",
       "194620               2                        2                  1  108060.04   \n",
       "194621               3                        3                  1   22511.65   \n",
       "\n",
       "        alcohol_consumption  dietary_habits  sleep_patterns  \\\n",
       "0                         2               0               2   \n",
       "1                         2               0               2   \n",
       "2                         3               0               3   \n",
       "3                         3               0               1   \n",
       "4                         1               1               2   \n",
       "...                     ...             ...             ...   \n",
       "194617                    1               2               3   \n",
       "194618                    1               1               1   \n",
       "194619                    2               0               2   \n",
       "194620                    1               1               2   \n",
       "194621                    2               0               1   \n",
       "\n",
       "        history_of_mental_illness  history_of_substance_abuse  \\\n",
       "0                               0                           0   \n",
       "1                               0                           0   \n",
       "2                               1                           0   \n",
       "3                               1                           1   \n",
       "4                               0                           1   \n",
       "...                           ...                         ...   \n",
       "194617                          0                           0   \n",
       "194618                          0                           0   \n",
       "194619                          0                           1   \n",
       "194620                          0                           0   \n",
       "194621                          0                           1   \n",
       "\n",
       "        family_history_of_depression  chronic_medical_conditions  \n",
       "0                                  0                           0  \n",
       "1                                  1                           0  \n",
       "2                                  1                           0  \n",
       "3                                  0                           0  \n",
       "4                                  0                           1  \n",
       "...                              ...                         ...  \n",
       "194617                             1                           0  \n",
       "194618                             1                           1  \n",
       "194619                             1                           0  \n",
       "194620                             0                           1  \n",
       "194621                             1                           0  \n",
       "\n",
       "[194622 rows x 15 columns]"
      ]
     },
     "execution_count": 213,
     "metadata": {},
     "output_type": "execute_result"
    }
   ],
   "source": [
    "df1"
   ]
  },
  {
   "cell_type": "code",
   "execution_count": 140,
   "id": "2822e147",
   "metadata": {},
   "outputs": [
    {
     "data": {
      "text/html": [
       "<div>\n",
       "<style scoped>\n",
       "    .dataframe tbody tr th:only-of-type {\n",
       "        vertical-align: middle;\n",
       "    }\n",
       "\n",
       "    .dataframe tbody tr th {\n",
       "        vertical-align: top;\n",
       "    }\n",
       "\n",
       "    .dataframe thead th {\n",
       "        text-align: right;\n",
       "    }\n",
       "</style>\n",
       "<table border=\"1\" class=\"dataframe\">\n",
       "  <thead>\n",
       "    <tr style=\"text-align: right;\">\n",
       "      <th></th>\n",
       "      <th>education_level</th>\n",
       "      <th>employment_status</th>\n",
       "      <th>income</th>\n",
       "      <th>history_of_mental_illness</th>\n",
       "    </tr>\n",
       "  </thead>\n",
       "  <tbody>\n",
       "    <tr>\n",
       "      <th>0</th>\n",
       "      <td>1</td>\n",
       "      <td>1</td>\n",
       "      <td>36243.89</td>\n",
       "      <td>0</td>\n",
       "    </tr>\n",
       "    <tr>\n",
       "      <th>1</th>\n",
       "      <td>1</td>\n",
       "      <td>1</td>\n",
       "      <td>30572.11</td>\n",
       "      <td>0</td>\n",
       "    </tr>\n",
       "    <tr>\n",
       "      <th>2</th>\n",
       "      <td>1</td>\n",
       "      <td>0</td>\n",
       "      <td>28757.39</td>\n",
       "      <td>1</td>\n",
       "    </tr>\n",
       "    <tr>\n",
       "      <th>3</th>\n",
       "      <td>1</td>\n",
       "      <td>1</td>\n",
       "      <td>24127.58</td>\n",
       "      <td>1</td>\n",
       "    </tr>\n",
       "    <tr>\n",
       "      <th>4</th>\n",
       "      <td>1</td>\n",
       "      <td>1</td>\n",
       "      <td>38191.53</td>\n",
       "      <td>0</td>\n",
       "    </tr>\n",
       "    <tr>\n",
       "      <th>...</th>\n",
       "      <td>...</td>\n",
       "      <td>...</td>\n",
       "      <td>...</td>\n",
       "      <td>...</td>\n",
       "    </tr>\n",
       "    <tr>\n",
       "      <th>194617</th>\n",
       "      <td>3</td>\n",
       "      <td>0</td>\n",
       "      <td>10660.86</td>\n",
       "      <td>0</td>\n",
       "    </tr>\n",
       "    <tr>\n",
       "      <th>194618</th>\n",
       "      <td>3</td>\n",
       "      <td>0</td>\n",
       "      <td>3453.10</td>\n",
       "      <td>0</td>\n",
       "    </tr>\n",
       "    <tr>\n",
       "      <th>194619</th>\n",
       "      <td>5</td>\n",
       "      <td>1</td>\n",
       "      <td>128807.63</td>\n",
       "      <td>0</td>\n",
       "    </tr>\n",
       "    <tr>\n",
       "      <th>194620</th>\n",
       "      <td>4</td>\n",
       "      <td>1</td>\n",
       "      <td>108060.04</td>\n",
       "      <td>0</td>\n",
       "    </tr>\n",
       "    <tr>\n",
       "      <th>194621</th>\n",
       "      <td>1</td>\n",
       "      <td>1</td>\n",
       "      <td>22511.65</td>\n",
       "      <td>0</td>\n",
       "    </tr>\n",
       "  </tbody>\n",
       "</table>\n",
       "<p>194622 rows × 4 columns</p>\n",
       "</div>"
      ],
      "text/plain": [
       "        education_level  employment_status     income  \\\n",
       "0                     1                  1   36243.89   \n",
       "1                     1                  1   30572.11   \n",
       "2                     1                  0   28757.39   \n",
       "3                     1                  1   24127.58   \n",
       "4                     1                  1   38191.53   \n",
       "...                 ...                ...        ...   \n",
       "194617                3                  0   10660.86   \n",
       "194618                3                  0    3453.10   \n",
       "194619                5                  1  128807.63   \n",
       "194620                4                  1  108060.04   \n",
       "194621                1                  1   22511.65   \n",
       "\n",
       "        history_of_mental_illness  \n",
       "0                               0  \n",
       "1                               0  \n",
       "2                               1  \n",
       "3                               1  \n",
       "4                               0  \n",
       "...                           ...  \n",
       "194617                          0  \n",
       "194618                          0  \n",
       "194619                          0  \n",
       "194620                          0  \n",
       "194621                          0  \n",
       "\n",
       "[194622 rows x 4 columns]"
      ]
     },
     "execution_count": 140,
     "metadata": {},
     "output_type": "execute_result"
    }
   ],
   "source": [
    "df2 = df1[['education_level', 'employment_status','income','history_of_mental_illness']]\n",
    "df2"
   ]
  },
  {
   "cell_type": "code",
   "execution_count": 56,
   "id": "628f15ef",
   "metadata": {},
   "outputs": [],
   "source": [
    "#col_to_drop = ['marital_status', 'number_of_children',\n",
    "  #     'smoking_status', 'physical_activity_level',\n",
    "   #     'alcohol_consumption','history_of_substance_abuse',\n",
    "   #    'family_history_of_depression', 'chronic_medical_conditions','age','dietary_habits', 'sleep_patterns']\n",
    "\n",
    "#df2 = df1.drop(columns=col_to_drop)"
   ]
  },
  {
   "cell_type": "code",
   "execution_count": 141,
   "id": "deaefba9",
   "metadata": {},
   "outputs": [],
   "source": [
    "df_train_full2, df_test2 = train_test_split(df2, test_size=0.2, random_state=1)\n",
    "df_train2, df_val2 = train_test_split(df_train_full2, test_size=0.33, random_state=11)             \n",
    "y_train2 = df_train2.history_of_mental_illness.values   \n",
    "y_val2 = df_val2.history_of_mental_illness.values \n"
   ]
  },
  {
   "cell_type": "code",
   "execution_count": 142,
   "id": "b717a836",
   "metadata": {},
   "outputs": [],
   "source": [
    "categorical2 = [ 'education_level', 'employment_status']\n",
    "numerical2 = ['income']"
   ]
  },
  {
   "cell_type": "code",
   "execution_count": 143,
   "id": "0c81ca7f",
   "metadata": {},
   "outputs": [],
   "source": [
    "# scale numerical columns\n",
    "sc = StandardScaler()\n",
    "cols_to_scale2 = df_train2[['income']].columns.tolist()\n",
    "cols_to_scale2\n",
    "df_train2.loc[:,cols_to_scale2] = sc.fit_transform(df_train2.loc[:,cols_to_scale2])"
   ]
  },
  {
   "cell_type": "code",
   "execution_count": 144,
   "id": "1ac02515",
   "metadata": {},
   "outputs": [],
   "source": [
    "# scale numerical columns\n",
    "\n",
    "# encode cat and numerical columns\n",
    "train_dict2 = df_train2[categorical2 + numerical2].to_dict(orient='records')\n",
    "\n",
    "dv = DictVectorizer(sparse=False)\n",
    "dv.fit(train_dict2)\n",
    "\n",
    "X_train2 = dv.transform(train_dict2)"
   ]
  },
  {
   "cell_type": "code",
   "execution_count": 145,
   "id": "29f7ce41",
   "metadata": {},
   "outputs": [
    {
     "data": {
      "text/html": [
       "<style>#sk-container-id-3 {color: black;}#sk-container-id-3 pre{padding: 0;}#sk-container-id-3 div.sk-toggleable {background-color: white;}#sk-container-id-3 label.sk-toggleable__label {cursor: pointer;display: block;width: 100%;margin-bottom: 0;padding: 0.3em;box-sizing: border-box;text-align: center;}#sk-container-id-3 label.sk-toggleable__label-arrow:before {content: \"▸\";float: left;margin-right: 0.25em;color: #696969;}#sk-container-id-3 label.sk-toggleable__label-arrow:hover:before {color: black;}#sk-container-id-3 div.sk-estimator:hover label.sk-toggleable__label-arrow:before {color: black;}#sk-container-id-3 div.sk-toggleable__content {max-height: 0;max-width: 0;overflow: hidden;text-align: left;background-color: #f0f8ff;}#sk-container-id-3 div.sk-toggleable__content pre {margin: 0.2em;color: black;border-radius: 0.25em;background-color: #f0f8ff;}#sk-container-id-3 input.sk-toggleable__control:checked~div.sk-toggleable__content {max-height: 200px;max-width: 100%;overflow: auto;}#sk-container-id-3 input.sk-toggleable__control:checked~label.sk-toggleable__label-arrow:before {content: \"▾\";}#sk-container-id-3 div.sk-estimator input.sk-toggleable__control:checked~label.sk-toggleable__label {background-color: #d4ebff;}#sk-container-id-3 div.sk-label input.sk-toggleable__control:checked~label.sk-toggleable__label {background-color: #d4ebff;}#sk-container-id-3 input.sk-hidden--visually {border: 0;clip: rect(1px 1px 1px 1px);clip: rect(1px, 1px, 1px, 1px);height: 1px;margin: -1px;overflow: hidden;padding: 0;position: absolute;width: 1px;}#sk-container-id-3 div.sk-estimator {font-family: monospace;background-color: #f0f8ff;border: 1px dotted black;border-radius: 0.25em;box-sizing: border-box;margin-bottom: 0.5em;}#sk-container-id-3 div.sk-estimator:hover {background-color: #d4ebff;}#sk-container-id-3 div.sk-parallel-item::after {content: \"\";width: 100%;border-bottom: 1px solid gray;flex-grow: 1;}#sk-container-id-3 div.sk-label:hover label.sk-toggleable__label {background-color: #d4ebff;}#sk-container-id-3 div.sk-serial::before {content: \"\";position: absolute;border-left: 1px solid gray;box-sizing: border-box;top: 0;bottom: 0;left: 50%;z-index: 0;}#sk-container-id-3 div.sk-serial {display: flex;flex-direction: column;align-items: center;background-color: white;padding-right: 0.2em;padding-left: 0.2em;position: relative;}#sk-container-id-3 div.sk-item {position: relative;z-index: 1;}#sk-container-id-3 div.sk-parallel {display: flex;align-items: stretch;justify-content: center;background-color: white;position: relative;}#sk-container-id-3 div.sk-item::before, #sk-container-id-3 div.sk-parallel-item::before {content: \"\";position: absolute;border-left: 1px solid gray;box-sizing: border-box;top: 0;bottom: 0;left: 50%;z-index: -1;}#sk-container-id-3 div.sk-parallel-item {display: flex;flex-direction: column;z-index: 1;position: relative;background-color: white;}#sk-container-id-3 div.sk-parallel-item:first-child::after {align-self: flex-end;width: 50%;}#sk-container-id-3 div.sk-parallel-item:last-child::after {align-self: flex-start;width: 50%;}#sk-container-id-3 div.sk-parallel-item:only-child::after {width: 0;}#sk-container-id-3 div.sk-dashed-wrapped {border: 1px dashed gray;margin: 0 0.4em 0.5em 0.4em;box-sizing: border-box;padding-bottom: 0.4em;background-color: white;}#sk-container-id-3 div.sk-label label {font-family: monospace;font-weight: bold;display: inline-block;line-height: 1.2em;}#sk-container-id-3 div.sk-label-container {text-align: center;}#sk-container-id-3 div.sk-container {/* jupyter's `normalize.less` sets `[hidden] { display: none; }` but bootstrap.min.css set `[hidden] { display: none !important; }` so we also need the `!important` here to be able to override the default hidden behavior on the sphinx rendered scikit-learn.org. See: https://github.com/scikit-learn/scikit-learn/issues/21755 */display: inline-block !important;position: relative;}#sk-container-id-3 div.sk-text-repr-fallback {display: none;}</style><div id=\"sk-container-id-3\" class=\"sk-top-container\"><div class=\"sk-text-repr-fallback\"><pre>LogisticRegression(random_state=1, solver=&#x27;liblinear&#x27;)</pre><b>In a Jupyter environment, please rerun this cell to show the HTML representation or trust the notebook. <br />On GitHub, the HTML representation is unable to render, please try loading this page with nbviewer.org.</b></div><div class=\"sk-container\" hidden><div class=\"sk-item\"><div class=\"sk-estimator sk-toggleable\"><input class=\"sk-toggleable__control sk-hidden--visually\" id=\"sk-estimator-id-3\" type=\"checkbox\" checked><label for=\"sk-estimator-id-3\" class=\"sk-toggleable__label sk-toggleable__label-arrow\">LogisticRegression</label><div class=\"sk-toggleable__content\"><pre>LogisticRegression(random_state=1, solver=&#x27;liblinear&#x27;)</pre></div></div></div></div></div>"
      ],
      "text/plain": [
       "LogisticRegression(random_state=1, solver='liblinear')"
      ]
     },
     "execution_count": 145,
     "metadata": {},
     "output_type": "execute_result"
    }
   ],
   "source": [
    "model2 = LogisticRegression(solver='liblinear', random_state=1)\n",
    "model2.fit(X_train2, y_train2)"
   ]
  },
  {
   "cell_type": "code",
   "execution_count": 146,
   "id": "593f55e6",
   "metadata": {},
   "outputs": [],
   "source": [
    "cols_to_scale2 =df_val2[['income']].columns.tolist()\n",
    "cols_to_scale2\n",
    "df_val2.loc[:,cols_to_scale2] = sc.fit_transform(df_val2.loc[:,cols_to_scale2]) \n",
    "# encode cat and numerical columns\n",
    "val_dict2 = df_val2[categorical2 + numerical2].to_dict(orient='records')\n",
    "X_val2 =dv.transform(val_dict2)  "
   ]
  },
  {
   "cell_type": "code",
   "execution_count": 148,
   "id": "b534d808",
   "metadata": {},
   "outputs": [
    {
     "data": {
      "text/plain": [
       "0.6040016915059309"
      ]
     },
     "execution_count": 148,
     "metadata": {},
     "output_type": "execute_result"
    }
   ],
   "source": [
    "y_pred2 = model2.predict_proba(X_val2)[:, 1]\n",
    "y_pred2\n",
    "roc_auc_score(y_val, y_pred2)"
   ]
  },
  {
   "cell_type": "code",
   "execution_count": 149,
   "id": "a319d396",
   "metadata": {},
   "outputs": [],
   "source": [
    "# Fited model"
   ]
  },
  {
   "cell_type": "code",
   "execution_count": 150,
   "id": "2756ec55",
   "metadata": {},
   "outputs": [
    {
     "data": {
      "text/html": [
       "<style>#sk-container-id-4 {color: black;}#sk-container-id-4 pre{padding: 0;}#sk-container-id-4 div.sk-toggleable {background-color: white;}#sk-container-id-4 label.sk-toggleable__label {cursor: pointer;display: block;width: 100%;margin-bottom: 0;padding: 0.3em;box-sizing: border-box;text-align: center;}#sk-container-id-4 label.sk-toggleable__label-arrow:before {content: \"▸\";float: left;margin-right: 0.25em;color: #696969;}#sk-container-id-4 label.sk-toggleable__label-arrow:hover:before {color: black;}#sk-container-id-4 div.sk-estimator:hover label.sk-toggleable__label-arrow:before {color: black;}#sk-container-id-4 div.sk-toggleable__content {max-height: 0;max-width: 0;overflow: hidden;text-align: left;background-color: #f0f8ff;}#sk-container-id-4 div.sk-toggleable__content pre {margin: 0.2em;color: black;border-radius: 0.25em;background-color: #f0f8ff;}#sk-container-id-4 input.sk-toggleable__control:checked~div.sk-toggleable__content {max-height: 200px;max-width: 100%;overflow: auto;}#sk-container-id-4 input.sk-toggleable__control:checked~label.sk-toggleable__label-arrow:before {content: \"▾\";}#sk-container-id-4 div.sk-estimator input.sk-toggleable__control:checked~label.sk-toggleable__label {background-color: #d4ebff;}#sk-container-id-4 div.sk-label input.sk-toggleable__control:checked~label.sk-toggleable__label {background-color: #d4ebff;}#sk-container-id-4 input.sk-hidden--visually {border: 0;clip: rect(1px 1px 1px 1px);clip: rect(1px, 1px, 1px, 1px);height: 1px;margin: -1px;overflow: hidden;padding: 0;position: absolute;width: 1px;}#sk-container-id-4 div.sk-estimator {font-family: monospace;background-color: #f0f8ff;border: 1px dotted black;border-radius: 0.25em;box-sizing: border-box;margin-bottom: 0.5em;}#sk-container-id-4 div.sk-estimator:hover {background-color: #d4ebff;}#sk-container-id-4 div.sk-parallel-item::after {content: \"\";width: 100%;border-bottom: 1px solid gray;flex-grow: 1;}#sk-container-id-4 div.sk-label:hover label.sk-toggleable__label {background-color: #d4ebff;}#sk-container-id-4 div.sk-serial::before {content: \"\";position: absolute;border-left: 1px solid gray;box-sizing: border-box;top: 0;bottom: 0;left: 50%;z-index: 0;}#sk-container-id-4 div.sk-serial {display: flex;flex-direction: column;align-items: center;background-color: white;padding-right: 0.2em;padding-left: 0.2em;position: relative;}#sk-container-id-4 div.sk-item {position: relative;z-index: 1;}#sk-container-id-4 div.sk-parallel {display: flex;align-items: stretch;justify-content: center;background-color: white;position: relative;}#sk-container-id-4 div.sk-item::before, #sk-container-id-4 div.sk-parallel-item::before {content: \"\";position: absolute;border-left: 1px solid gray;box-sizing: border-box;top: 0;bottom: 0;left: 50%;z-index: -1;}#sk-container-id-4 div.sk-parallel-item {display: flex;flex-direction: column;z-index: 1;position: relative;background-color: white;}#sk-container-id-4 div.sk-parallel-item:first-child::after {align-self: flex-end;width: 50%;}#sk-container-id-4 div.sk-parallel-item:last-child::after {align-self: flex-start;width: 50%;}#sk-container-id-4 div.sk-parallel-item:only-child::after {width: 0;}#sk-container-id-4 div.sk-dashed-wrapped {border: 1px dashed gray;margin: 0 0.4em 0.5em 0.4em;box-sizing: border-box;padding-bottom: 0.4em;background-color: white;}#sk-container-id-4 div.sk-label label {font-family: monospace;font-weight: bold;display: inline-block;line-height: 1.2em;}#sk-container-id-4 div.sk-label-container {text-align: center;}#sk-container-id-4 div.sk-container {/* jupyter's `normalize.less` sets `[hidden] { display: none; }` but bootstrap.min.css set `[hidden] { display: none !important; }` so we also need the `!important` here to be able to override the default hidden behavior on the sphinx rendered scikit-learn.org. See: https://github.com/scikit-learn/scikit-learn/issues/21755 */display: inline-block !important;position: relative;}#sk-container-id-4 div.sk-text-repr-fallback {display: none;}</style><div id=\"sk-container-id-4\" class=\"sk-top-container\"><div class=\"sk-text-repr-fallback\"><pre>LogisticRegression(random_state=1, solver=&#x27;liblinear&#x27;)</pre><b>In a Jupyter environment, please rerun this cell to show the HTML representation or trust the notebook. <br />On GitHub, the HTML representation is unable to render, please try loading this page with nbviewer.org.</b></div><div class=\"sk-container\" hidden><div class=\"sk-item\"><div class=\"sk-estimator sk-toggleable\"><input class=\"sk-toggleable__control sk-hidden--visually\" id=\"sk-estimator-id-4\" type=\"checkbox\" checked><label for=\"sk-estimator-id-4\" class=\"sk-toggleable__label sk-toggleable__label-arrow\">LogisticRegression</label><div class=\"sk-toggleable__content\"><pre>LogisticRegression(random_state=1, solver=&#x27;liblinear&#x27;)</pre></div></div></div></div></div>"
      ],
      "text/plain": [
       "LogisticRegression(random_state=1, solver='liblinear')"
      ]
     },
     "execution_count": 150,
     "metadata": {},
     "output_type": "execute_result"
    }
   ],
   "source": [
    "model = LogisticRegression(solver='liblinear', random_state=1)\n",
    "model.fit(X_train, y_train)"
   ]
  },
  {
   "cell_type": "code",
   "execution_count": null,
   "id": "fb9f1962",
   "metadata": {},
   "outputs": [],
   "source": [
    "#  Finding best parameters"
   ]
  },
  {
   "cell_type": "code",
   "execution_count": 151,
   "id": "5e3b7181",
   "metadata": {},
   "outputs": [],
   "source": [
    "def train(df, y, C):                                             \n",
    "    cat = df[categorical + numerical].to_dict(orient='records')\n",
    "    dv = DictVectorizer(sparse=False)\n",
    "    dv.fit(cat)\n",
    " \n",
    "    X = dv.transform(cat)\n",
    " \n",
    "    model = LogisticRegression(solver='liblinear', C=C)          \n",
    "    model.fit(X, y)\n",
    " \n",
    "    return dv, model"
   ]
  },
  {
   "cell_type": "code",
   "execution_count": 66,
   "id": "220657d3",
   "metadata": {},
   "outputs": [],
   "source": [
    "def predict(df, dv, model):\n",
    "    cat = df[categorical + numerical].to_dict(orient='records')   \n",
    " \n",
    "    X = dv.transform(cat)                                         \n",
    "    y_pred = model.predict_proba(X)[:, 1]                         \n",
    " \n",
    "    return y_pred"
   ]
  },
  {
   "cell_type": "code",
   "execution_count": 67,
   "id": "bc1d25c6",
   "metadata": {},
   "outputs": [],
   "source": [
    "def predict_single(customer, dv, model):    \n",
    "    X = dv.transform([customer])            \n",
    "    y_pred = model.predict_proba(X)[:, 1]   \n",
    "    return y_pred[0]   "
   ]
  },
  {
   "cell_type": "code",
   "execution_count": 68,
   "id": "fbd35105",
   "metadata": {},
   "outputs": [
    {
     "name": "stdout",
     "output_type": "stream",
     "text": [
      "C=0.001, auc = 0.591 ± 0.003\n",
      "C=0.01, auc = 0.591 ± 0.003\n",
      "C=0.1, auc = 0.591 ± 0.003\n",
      "C=0.5, auc = 0.591 ± 0.003\n",
      "C=1, auc = 0.591 ± 0.003\n",
      "C=10, auc = 0.591 ± 0.003\n"
     ]
    }
   ],
   "source": [
    "nfolds = 5\n",
    "kfold = KFold(n_splits=nfolds, shuffle=True, random_state=1)\n",
    " \n",
    "for C in [0.001, 0.01, 0.1, 0.5, 1, 10]:\n",
    "    aucs = []\n",
    " \n",
    "    for train_idx, val_idx in kfold.split(df_train_full):\n",
    "        df_train = df_train_full.iloc[train_idx]\n",
    "        df_val = df_train_full.iloc[val_idx]\n",
    " \n",
    "        y_train = df_train.history_of_mental_illness.values\n",
    "        y_val = df_val.history_of_mental_illness.values\n",
    " \n",
    "        dv, model = train(df_train, y_train, C=C)\n",
    "        y_pred = predict(df_val, dv, model)\n",
    "  \n",
    "        auc = roc_auc_score(y_val, y_pred)\n",
    "        aucs.append(auc)\n",
    " \n",
    "    print('C=%s, auc = %0.3f ± %0.3f' % (C, np.mean(aucs), np.std(aucs)))"
   ]
  },
  {
   "cell_type": "markdown",
   "id": "bb118c28",
   "metadata": {},
   "source": [
    "# serilisation and decerilisation"
   ]
  },
  {
   "cell_type": "code",
   "execution_count": 152,
   "id": "b2f944a7",
   "metadata": {},
   "outputs": [],
   "source": [
    "# serialization & deserialization\n",
    "with open('MH-Model.bin', 'wb') as f_out: \n",
    "    pickle.dump((dv, model), f_out)   "
   ]
  },
  {
   "cell_type": "code",
   "execution_count": 153,
   "id": "b34f509e",
   "metadata": {},
   "outputs": [],
   "source": [
    "#deserialization\n",
    "with open('MH-Model.bin', 'rb') as f_in:    \n",
    "    dv, model = pickle.load(f_in)  "
   ]
  },
  {
   "cell_type": "code",
   "execution_count": 239,
   "id": "1a6f2598",
   "metadata": {},
   "outputs": [
    {
     "data": {
      "text/html": [
       "<div>\n",
       "<style scoped>\n",
       "    .dataframe tbody tr th:only-of-type {\n",
       "        vertical-align: middle;\n",
       "    }\n",
       "\n",
       "    .dataframe tbody tr th {\n",
       "        vertical-align: top;\n",
       "    }\n",
       "\n",
       "    .dataframe thead th {\n",
       "        text-align: right;\n",
       "    }\n",
       "</style>\n",
       "<table border=\"1\" class=\"dataframe\">\n",
       "  <thead>\n",
       "    <tr style=\"text-align: right;\">\n",
       "      <th></th>\n",
       "      <th>education_level</th>\n",
       "      <th>employment_status</th>\n",
       "      <th>income</th>\n",
       "      <th>history_of_mental_illness</th>\n",
       "      <th>income</th>\n",
       "    </tr>\n",
       "  </thead>\n",
       "  <tbody>\n",
       "    <tr>\n",
       "      <th>0</th>\n",
       "      <td>1</td>\n",
       "      <td>1</td>\n",
       "      <td>36243.89</td>\n",
       "      <td>0</td>\n",
       "      <td>36243.89</td>\n",
       "    </tr>\n",
       "    <tr>\n",
       "      <th>1</th>\n",
       "      <td>1</td>\n",
       "      <td>1</td>\n",
       "      <td>30572.11</td>\n",
       "      <td>0</td>\n",
       "      <td>30572.11</td>\n",
       "    </tr>\n",
       "    <tr>\n",
       "      <th>2</th>\n",
       "      <td>1</td>\n",
       "      <td>0</td>\n",
       "      <td>28757.39</td>\n",
       "      <td>1</td>\n",
       "      <td>28757.39</td>\n",
       "    </tr>\n",
       "    <tr>\n",
       "      <th>3</th>\n",
       "      <td>1</td>\n",
       "      <td>1</td>\n",
       "      <td>24127.58</td>\n",
       "      <td>1</td>\n",
       "      <td>24127.58</td>\n",
       "    </tr>\n",
       "    <tr>\n",
       "      <th>4</th>\n",
       "      <td>1</td>\n",
       "      <td>1</td>\n",
       "      <td>38191.53</td>\n",
       "      <td>0</td>\n",
       "      <td>38191.53</td>\n",
       "    </tr>\n",
       "    <tr>\n",
       "      <th>...</th>\n",
       "      <td>...</td>\n",
       "      <td>...</td>\n",
       "      <td>...</td>\n",
       "      <td>...</td>\n",
       "      <td>...</td>\n",
       "    </tr>\n",
       "    <tr>\n",
       "      <th>194617</th>\n",
       "      <td>3</td>\n",
       "      <td>0</td>\n",
       "      <td>10660.86</td>\n",
       "      <td>0</td>\n",
       "      <td>10660.86</td>\n",
       "    </tr>\n",
       "    <tr>\n",
       "      <th>194618</th>\n",
       "      <td>3</td>\n",
       "      <td>0</td>\n",
       "      <td>3453.10</td>\n",
       "      <td>0</td>\n",
       "      <td>3453.10</td>\n",
       "    </tr>\n",
       "    <tr>\n",
       "      <th>194619</th>\n",
       "      <td>5</td>\n",
       "      <td>1</td>\n",
       "      <td>128807.63</td>\n",
       "      <td>0</td>\n",
       "      <td>128807.63</td>\n",
       "    </tr>\n",
       "    <tr>\n",
       "      <th>194620</th>\n",
       "      <td>4</td>\n",
       "      <td>1</td>\n",
       "      <td>108060.04</td>\n",
       "      <td>0</td>\n",
       "      <td>108060.04</td>\n",
       "    </tr>\n",
       "    <tr>\n",
       "      <th>194621</th>\n",
       "      <td>1</td>\n",
       "      <td>1</td>\n",
       "      <td>22511.65</td>\n",
       "      <td>0</td>\n",
       "      <td>22511.65</td>\n",
       "    </tr>\n",
       "  </tbody>\n",
       "</table>\n",
       "<p>194622 rows × 5 columns</p>\n",
       "</div>"
      ],
      "text/plain": [
       "        education_level  employment_status     income  \\\n",
       "0                     1                  1   36243.89   \n",
       "1                     1                  1   30572.11   \n",
       "2                     1                  0   28757.39   \n",
       "3                     1                  1   24127.58   \n",
       "4                     1                  1   38191.53   \n",
       "...                 ...                ...        ...   \n",
       "194617                3                  0   10660.86   \n",
       "194618                3                  0    3453.10   \n",
       "194619                5                  1  128807.63   \n",
       "194620                4                  1  108060.04   \n",
       "194621                1                  1   22511.65   \n",
       "\n",
       "        history_of_mental_illness     income  \n",
       "0                               0   36243.89  \n",
       "1                               0   30572.11  \n",
       "2                               1   28757.39  \n",
       "3                               1   24127.58  \n",
       "4                               0   38191.53  \n",
       "...                           ...        ...  \n",
       "194617                          0   10660.86  \n",
       "194618                          0    3453.10  \n",
       "194619                          0  128807.63  \n",
       "194620                          0  108060.04  \n",
       "194621                          0   22511.65  \n",
       "\n",
       "[194622 rows x 5 columns]"
      ]
     },
     "execution_count": 239,
     "metadata": {},
     "output_type": "execute_result"
    }
   ],
   "source": [
    "df2 = data[['education_level', 'employment_status','income','history_of_mental_illness','income']]\n",
    "df2"
   ]
  },
  {
   "cell_type": "code",
   "execution_count": 240,
   "id": "ebc4203c",
   "metadata": {},
   "outputs": [
    {
     "name": "stderr",
     "output_type": "stream",
     "text": [
      "C:\\Users\\NanjHen.NHIS\\AppData\\Local\\Temp\\ipykernel_23980\\149287858.py:1: SettingWithCopyWarning: \n",
      "A value is trying to be set on a copy of a slice from a DataFrame.\n",
      "Try using .loc[row_indexer,col_indexer] = value instead\n",
      "\n",
      "See the caveats in the documentation: https://pandas.pydata.org/pandas-docs/stable/user_guide/indexing.html#returning-a-view-versus-a-copy\n",
      "  df2['income'] = np.where(df2['income'] > 35880 , 1, 0)\n"
     ]
    }
   ],
   "source": [
    "df2['income'] = np.where(df2['income'] > 35880 , 1, 0)"
   ]
  },
  {
   "cell_type": "code",
   "execution_count": 232,
   "id": "b413472f",
   "metadata": {},
   "outputs": [
    {
     "data": {
      "text/plain": [
       "income    35880.335\n",
       "income    35880.335\n",
       "dtype: float64"
      ]
     },
     "execution_count": 232,
     "metadata": {},
     "output_type": "execute_result"
    }
   ],
   "source": [
    "df2['income'].median()"
   ]
  },
  {
   "cell_type": "code",
   "execution_count": 241,
   "id": "cb326195",
   "metadata": {},
   "outputs": [
    {
     "data": {
      "text/html": [
       "<div>\n",
       "<style scoped>\n",
       "    .dataframe tbody tr th:only-of-type {\n",
       "        vertical-align: middle;\n",
       "    }\n",
       "\n",
       "    .dataframe tbody tr th {\n",
       "        vertical-align: top;\n",
       "    }\n",
       "\n",
       "    .dataframe thead th {\n",
       "        text-align: right;\n",
       "    }\n",
       "</style>\n",
       "<table border=\"1\" class=\"dataframe\">\n",
       "  <thead>\n",
       "    <tr style=\"text-align: right;\">\n",
       "      <th></th>\n",
       "      <th>education_level</th>\n",
       "      <th>employment_status</th>\n",
       "      <th>income</th>\n",
       "      <th>history_of_mental_illness</th>\n",
       "      <th>income</th>\n",
       "    </tr>\n",
       "  </thead>\n",
       "  <tbody>\n",
       "    <tr>\n",
       "      <th>0</th>\n",
       "      <td>1</td>\n",
       "      <td>1</td>\n",
       "      <td>1</td>\n",
       "      <td>0</td>\n",
       "      <td>1</td>\n",
       "    </tr>\n",
       "    <tr>\n",
       "      <th>1</th>\n",
       "      <td>1</td>\n",
       "      <td>1</td>\n",
       "      <td>0</td>\n",
       "      <td>0</td>\n",
       "      <td>0</td>\n",
       "    </tr>\n",
       "    <tr>\n",
       "      <th>2</th>\n",
       "      <td>1</td>\n",
       "      <td>0</td>\n",
       "      <td>0</td>\n",
       "      <td>1</td>\n",
       "      <td>0</td>\n",
       "    </tr>\n",
       "    <tr>\n",
       "      <th>3</th>\n",
       "      <td>1</td>\n",
       "      <td>1</td>\n",
       "      <td>0</td>\n",
       "      <td>1</td>\n",
       "      <td>0</td>\n",
       "    </tr>\n",
       "    <tr>\n",
       "      <th>4</th>\n",
       "      <td>1</td>\n",
       "      <td>1</td>\n",
       "      <td>1</td>\n",
       "      <td>0</td>\n",
       "      <td>1</td>\n",
       "    </tr>\n",
       "    <tr>\n",
       "      <th>...</th>\n",
       "      <td>...</td>\n",
       "      <td>...</td>\n",
       "      <td>...</td>\n",
       "      <td>...</td>\n",
       "      <td>...</td>\n",
       "    </tr>\n",
       "    <tr>\n",
       "      <th>194617</th>\n",
       "      <td>3</td>\n",
       "      <td>0</td>\n",
       "      <td>0</td>\n",
       "      <td>0</td>\n",
       "      <td>0</td>\n",
       "    </tr>\n",
       "    <tr>\n",
       "      <th>194618</th>\n",
       "      <td>3</td>\n",
       "      <td>0</td>\n",
       "      <td>0</td>\n",
       "      <td>0</td>\n",
       "      <td>0</td>\n",
       "    </tr>\n",
       "    <tr>\n",
       "      <th>194619</th>\n",
       "      <td>5</td>\n",
       "      <td>1</td>\n",
       "      <td>1</td>\n",
       "      <td>0</td>\n",
       "      <td>1</td>\n",
       "    </tr>\n",
       "    <tr>\n",
       "      <th>194620</th>\n",
       "      <td>4</td>\n",
       "      <td>1</td>\n",
       "      <td>1</td>\n",
       "      <td>0</td>\n",
       "      <td>1</td>\n",
       "    </tr>\n",
       "    <tr>\n",
       "      <th>194621</th>\n",
       "      <td>1</td>\n",
       "      <td>1</td>\n",
       "      <td>0</td>\n",
       "      <td>0</td>\n",
       "      <td>0</td>\n",
       "    </tr>\n",
       "  </tbody>\n",
       "</table>\n",
       "<p>194622 rows × 5 columns</p>\n",
       "</div>"
      ],
      "text/plain": [
       "        education_level  employment_status  income  history_of_mental_illness  \\\n",
       "0                     1                  1       1                          0   \n",
       "1                     1                  1       0                          0   \n",
       "2                     1                  0       0                          1   \n",
       "3                     1                  1       0                          1   \n",
       "4                     1                  1       1                          0   \n",
       "...                 ...                ...     ...                        ...   \n",
       "194617                3                  0       0                          0   \n",
       "194618                3                  0       0                          0   \n",
       "194619                5                  1       1                          0   \n",
       "194620                4                  1       1                          0   \n",
       "194621                1                  1       0                          0   \n",
       "\n",
       "        income  \n",
       "0            1  \n",
       "1            0  \n",
       "2            0  \n",
       "3            0  \n",
       "4            1  \n",
       "...        ...  \n",
       "194617       0  \n",
       "194618       0  \n",
       "194619       1  \n",
       "194620       1  \n",
       "194621       0  \n",
       "\n",
       "[194622 rows x 5 columns]"
      ]
     },
     "execution_count": 241,
     "metadata": {},
     "output_type": "execute_result"
    }
   ],
   "source": [
    "df2"
   ]
  },
  {
   "cell_type": "code",
   "execution_count": 247,
   "id": "f48d0470",
   "metadata": {},
   "outputs": [
    {
     "data": {
      "text/plain": [
       "0.6031570423400566"
      ]
     },
     "execution_count": 247,
     "metadata": {},
     "output_type": "execute_result"
    }
   ],
   "source": [
    "\n",
    "df_train_full2, df_test2 = train_test_split(df2, test_size=0.2, random_state=1)\n",
    "df_train2, df_val2 = train_test_split(df_train_full2, test_size=0.33, random_state=11)             \n",
    "y_train2 = df_train2.history_of_mental_illness.values   \n",
    "y_val2 = df_val2.history_of_mental_illness.values \n",
    "\n",
    "categorical2 = [ 'education_level', 'employment_status']\n",
    "#numerical2 = ['']\n",
    "\n",
    "# scale numerical columns\n",
    "#sc = StandardScaler()\n",
    "#cols_to_scale2 = df_train2[['']].columns.tolist()\n",
    "#cols_to_scale2\n",
    "#df_train2.loc[:,cols_to_scale2] = sc.fit_transform(df_train2.loc[:,cols_to_scale2])\n",
    "\n",
    "# encode cat and numerical columns\n",
    "train_dict2 = df_train2[categorical2].to_dict(orient='records')\n",
    "\n",
    "dv = DictVectorizer(sparse=False)\n",
    "dv.fit(train_dict2)\n",
    "\n",
    "X_train2 = dv.transform(train_dict2)\n",
    "\n",
    "model2 = LogisticRegression(solver='liblinear', random_state=1)\n",
    "model2.fit(X_train2, y_train2)\n",
    "\n",
    "#cols_to_scale2 =df_val2[['']].columns.tolist()\n",
    "#cols_to_scale2\n",
    "#df_val2.loc[:,cols_to_scale2] = sc.fit_transform(df_val2.loc[:,cols_to_scale2]) \n",
    "# encode cat and numerical columns\n",
    "val_dict2 = df_val2[categorical2].to_dict(orient='records')\n",
    "X_val2 =dv.transform(val_dict2) \n",
    "\n",
    "y_pred2 = model2.predict_proba(X_val2)[:, 1]\n",
    "y_pred2\n",
    "roc_auc_score(y_val, y_pred2) "
   ]
  },
  {
   "cell_type": "code",
   "execution_count": null,
   "id": "17dc8960",
   "metadata": {},
   "outputs": [],
   "source": []
  }
 ],
 "metadata": {
  "kernelspec": {
   "display_name": "Python 3 (ipykernel)",
   "language": "python",
   "name": "python3"
  },
  "language_info": {
   "codemirror_mode": {
    "name": "ipython",
    "version": 3
   },
   "file_extension": ".py",
   "mimetype": "text/x-python",
   "name": "python",
   "nbconvert_exporter": "python",
   "pygments_lexer": "ipython3",
   "version": "3.11.5"
  }
 },
 "nbformat": 4,
 "nbformat_minor": 5
}
